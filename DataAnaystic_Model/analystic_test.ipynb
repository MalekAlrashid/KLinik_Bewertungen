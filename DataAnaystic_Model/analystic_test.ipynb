{
 "cells": [
  {
   "cell_type": "code",
   "execution_count": 2,
   "id": "e1243964",
   "metadata": {},
   "outputs": [],
   "source": [
    "import pandas as pd\n",
    "import numpy as np"
   ]
  },
  {
   "cell_type": "code",
   "execution_count": 3,
   "id": "fa8a3fc9",
   "metadata": {
    "scrolled": false
   },
   "outputs": [],
   "source": [
    "#data.info()"
   ]
  },
  {
   "cell_type": "code",
   "execution_count": 4,
   "id": "ec46d311",
   "metadata": {
    "scrolled": true
   },
   "outputs": [
    {
     "data": {
      "text/html": [
       "<div>\n",
       "<style scoped>\n",
       "    .dataframe tbody tr th:only-of-type {\n",
       "        vertical-align: middle;\n",
       "    }\n",
       "\n",
       "    .dataframe tbody tr th {\n",
       "        vertical-align: top;\n",
       "    }\n",
       "\n",
       "    .dataframe thead th {\n",
       "        text-align: right;\n",
       "    }\n",
       "</style>\n",
       "<table border=\"1\" class=\"dataframe\">\n",
       "  <thead>\n",
       "    <tr style=\"text-align: right;\">\n",
       "      <th></th>\n",
       "      <th>Klinikname</th>\n",
       "      <th>Nutzername</th>\n",
       "      <th>Titel</th>\n",
       "      <th>Datum</th>\n",
       "      <th>Behandlungsjahr</th>\n",
       "      <th>Berichtet als</th>\n",
       "      <th>Daumen hoch/runter</th>\n",
       "      <th>Fachbereich</th>\n",
       "      <th>Gesamtzufriedenheit</th>\n",
       "      <th>Textuell Gesamtzufriedenheit</th>\n",
       "      <th>...</th>\n",
       "      <th>Ausstattung und Gestaltung</th>\n",
       "      <th>Textuell Ausstattung und Gestaltung</th>\n",
       "      <th>Pro</th>\n",
       "      <th>Kontra</th>\n",
       "      <th>Krankheitsbild</th>\n",
       "      <th>Privatpatient</th>\n",
       "      <th>Erfahrungsbericht</th>\n",
       "      <th>Kommentare</th>\n",
       "      <th>URL</th>\n",
       "      <th>Extraktionsdatum</th>\n",
       "    </tr>\n",
       "  </thead>\n",
       "  <tbody>\n",
       "    <tr>\n",
       "      <th>0</th>\n",
       "      <td>MediClin Seepark Klinik</td>\n",
       "      <td>Noname136</td>\n",
       "      <td>Organisation ist ein Fremdwort</td>\n",
       "      <td>19052021</td>\n",
       "      <td>Jahr der Behandlung: 20121</td>\n",
       "      <td>berichtet als Patient</td>\n",
       "      <td>Kein Daumen hoch/runter</td>\n",
       "      <td>Psychosomatik</td>\n",
       "      <td>2</td>\n",
       "      <td>weniger zufrieden\\n</td>\n",
       "      <td>...</td>\n",
       "      <td>2.0</td>\n",
       "      <td>weniger zufrieden\\n</td>\n",
       "      <td>Die Schwestern der MZ, Ernährungstherapeuten</td>\n",
       "      <td>siehe Bericht</td>\n",
       "      <td>Bulemie, Depressionen</td>\n",
       "      <td>nein</td>\n",
       "      <td>Hatte mir mehr versprochen  Die Organisation l...</td>\n",
       "      <td>Kein Kommentar</td>\n",
       "      <td>https://www.klinikbewertungen.de/klinik-forum/...</td>\n",
       "      <td>1062021</td>\n",
       "    </tr>\n",
       "    <tr>\n",
       "      <th>1</th>\n",
       "      <td>MediClin Seepark Klinik</td>\n",
       "      <td>noname22</td>\n",
       "      <td>Es war die Hölle auf Erden</td>\n",
       "      <td>11042021</td>\n",
       "      <td>Jahr der Behandlung: 18</td>\n",
       "      <td>berichtet als Patient</td>\n",
       "      <td>Daumen runter</td>\n",
       "      <td>Psychosomatik</td>\n",
       "      <td>0</td>\n",
       "      <td>unzufrieden\\n</td>\n",
       "      <td>...</td>\n",
       "      <td>2.0</td>\n",
       "      <td>weniger zufrieden (In den Zimmern roch es nach...</td>\n",
       "      <td>die Kunsttherapie war klasse!</td>\n",
       "      <td>Therapeuten; das Essen; Ich als Patient wurde ...</td>\n",
       "      <td>Depression</td>\n",
       "      <td>nein</td>\n",
       "      <td>Es war die absolute Hölle!  Die Therapeuten ka...</td>\n",
       "      <td>Kein Kommentar</td>\n",
       "      <td>https://www.klinikbewertungen.de/klinik-forum/...</td>\n",
       "      <td>1062021</td>\n",
       "    </tr>\n",
       "    <tr>\n",
       "      <th>2</th>\n",
       "      <td>MediClin Seepark Klinik</td>\n",
       "      <td>Cl.A.</td>\n",
       "      <td>Abschlussbericht</td>\n",
       "      <td>11042021</td>\n",
       "      <td>Jahr der Behandlung: 2020</td>\n",
       "      <td>berichtet als Patient</td>\n",
       "      <td>Daumen runter</td>\n",
       "      <td>Psychosomatik</td>\n",
       "      <td>0</td>\n",
       "      <td>unzufrieden (Siehe oben)\\n</td>\n",
       "      <td>...</td>\n",
       "      <td>2.0</td>\n",
       "      <td>weniger zufrieden (Null acht fünfzehn- Program...</td>\n",
       "      <td>-</td>\n",
       "      <td>Nein siehe oben!!!!!!!</td>\n",
       "      <td>Nachsorge und Begleitung nach einer Magen-Oper...</td>\n",
       "      <td>nein</td>\n",
       "      <td>Als grundpositiv eingestellter Mensch wollte i...</td>\n",
       "      <td>Kein Kommentar</td>\n",
       "      <td>https://www.klinikbewertungen.de/klinik-forum/...</td>\n",
       "      <td>1062021</td>\n",
       "    </tr>\n",
       "    <tr>\n",
       "      <th>3</th>\n",
       "      <td>MediClin Seepark Klinik</td>\n",
       "      <td>xx.</td>\n",
       "      <td>Zum größten Teil nicht weiter zu empfehlen</td>\n",
       "      <td>4042021</td>\n",
       "      <td>Jahr der Behandlung: 2020 /21</td>\n",
       "      <td>berichtet als Patient</td>\n",
       "      <td>Kein Daumen hoch/runter</td>\n",
       "      <td>Psychosomatik</td>\n",
       "      <td>2</td>\n",
       "      <td>weniger zufrieden\\n</td>\n",
       "      <td>...</td>\n",
       "      <td>2.0</td>\n",
       "      <td>weniger zufrieden\\n</td>\n",
       "      <td>Das Essen</td>\n",
       "      <td>Die Mitarbeiter, Chefarzt, Therapien</td>\n",
       "      <td>Anorexie</td>\n",
       "      <td>nein</td>\n",
       "      <td>Ich war für ca 5 Monate in der Klinik gewesen....</td>\n",
       "      <td>Kein Kommentar</td>\n",
       "      <td>https://www.klinikbewertungen.de/klinik-forum/...</td>\n",
       "      <td>1062021</td>\n",
       "    </tr>\n",
       "    <tr>\n",
       "      <th>4</th>\n",
       "      <td>MediClin Seepark Klinik</td>\n",
       "      <td>Ellie.</td>\n",
       "      <td>Durchaus ein Ort zum Genesen</td>\n",
       "      <td>28032021</td>\n",
       "      <td>Jahr der Behandlung: 2020</td>\n",
       "      <td>berichtet als Patient</td>\n",
       "      <td>Daumen hoch</td>\n",
       "      <td>Psychosomatik</td>\n",
       "      <td>4</td>\n",
       "      <td>zufrieden\\n</td>\n",
       "      <td>...</td>\n",
       "      <td>6.0</td>\n",
       "      <td>sehr zufrieden\\n</td>\n",
       "      <td>Direkte (aber nette) und offene Art mit der Er...</td>\n",
       "      <td>-</td>\n",
       "      <td>Anorexie, Depressionen</td>\n",
       "      <td>nein</td>\n",
       "      <td>Als ich in die Klinik ankam, wurde ich freundl...</td>\n",
       "      <td>Kein Kommentar</td>\n",
       "      <td>https://www.klinikbewertungen.de/klinik-forum/...</td>\n",
       "      <td>1062021</td>\n",
       "    </tr>\n",
       "    <tr>\n",
       "      <th>5</th>\n",
       "      <td>MediClin Seepark Klinik</td>\n",
       "      <td>BigM20</td>\n",
       "      <td>Slechte Klinik</td>\n",
       "      <td>28012021</td>\n",
       "      <td>Jahr der Behandlung: 2020</td>\n",
       "      <td>berichtet als Patient</td>\n",
       "      <td>Daumen runter</td>\n",
       "      <td>Psychosomatik</td>\n",
       "      <td>0</td>\n",
       "      <td>unzufrieden\\n</td>\n",
       "      <td>...</td>\n",
       "      <td>2.0</td>\n",
       "      <td>weniger zufrieden\\n</td>\n",
       "      <td>Der Kaffee</td>\n",
       "      <td>Personal ist ihre Aufgaben nicht gewachsen</td>\n",
       "      <td>Depressionen</td>\n",
       "      <td>nein</td>\n",
       "      <td>Eine sehr slechte Klinik die mich wenig gutes ...</td>\n",
       "      <td>Kein Kommentar</td>\n",
       "      <td>https://www.klinikbewertungen.de/klinik-forum/...</td>\n",
       "      <td>1062021</td>\n",
       "    </tr>\n",
       "    <tr>\n",
       "      <th>6</th>\n",
       "      <td>MediClin Seepark Klinik</td>\n",
       "      <td>LeonyHope</td>\n",
       "      <td>Kein Ort zum Gesen.</td>\n",
       "      <td>20122020</td>\n",
       "      <td>Jahr der Behandlung: 2020</td>\n",
       "      <td>berichtet als Patient</td>\n",
       "      <td>Daumen runter</td>\n",
       "      <td>Psychosomatik</td>\n",
       "      <td>0</td>\n",
       "      <td>unzufrieden\\n</td>\n",
       "      <td>...</td>\n",
       "      <td>0.0</td>\n",
       "      <td>unzufrieden\\n</td>\n",
       "      <td>Für extremst untergewichtige Patienten geeignet</td>\n",
       "      <td>Eine Nummer im System</td>\n",
       "      <td>Anorexie</td>\n",
       "      <td>nein</td>\n",
       "      <td>Diese Bewertung bezieht sich auf die Akutstati...</td>\n",
       "      <td>Kein Kommentar</td>\n",
       "      <td>https://www.klinikbewertungen.de/klinik-forum/...</td>\n",
       "      <td>1062021</td>\n",
       "    </tr>\n",
       "    <tr>\n",
       "      <th>7</th>\n",
       "      <td>MediClin Seepark Klinik</td>\n",
       "      <td>meingeheimnis</td>\n",
       "      <td>Gute Klinik aber...</td>\n",
       "      <td>16112020</td>\n",
       "      <td>Jahr der Behandlung: 2020</td>\n",
       "      <td>berichtet als Patient</td>\n",
       "      <td>Daumen hoch</td>\n",
       "      <td>Psychosomatik</td>\n",
       "      <td>4</td>\n",
       "      <td>zufrieden\\n</td>\n",
       "      <td>...</td>\n",
       "      <td>2.0</td>\n",
       "      <td>weniger zufrieden\\n</td>\n",
       "      <td>Fast alles</td>\n",
       "      <td>Die immer gleichen Patienten die das scheinbar...</td>\n",
       "      <td>Anorexie</td>\n",
       "      <td>nein</td>\n",
       "      <td>Ich war selbst mehrfach im Akutbereich der SPK...</td>\n",
       "      <td>Kein Kommentar</td>\n",
       "      <td>https://www.klinikbewertungen.de/klinik-forum/...</td>\n",
       "      <td>1062021</td>\n",
       "    </tr>\n",
       "    <tr>\n",
       "      <th>8</th>\n",
       "      <td>MediClin Seepark Klinik</td>\n",
       "      <td>moi5</td>\n",
       "      <td>hoffe nicht mehr</td>\n",
       "      <td>4092020</td>\n",
       "      <td>Jahr der Behandlung: 2020</td>\n",
       "      <td>berichtet als Patient</td>\n",
       "      <td>Daumen runter</td>\n",
       "      <td>Psychosomatik</td>\n",
       "      <td>0</td>\n",
       "      <td>unzufrieden\\n</td>\n",
       "      <td>...</td>\n",
       "      <td>0.0</td>\n",
       "      <td>unzufrieden\\n</td>\n",
       "      <td>nix</td>\n",
       "      <td>-</td>\n",
       "      <td>psychosomatisch</td>\n",
       "      <td>nein</td>\n",
       "      <td>Ich soll in diese Klinik, weil es mir schlecht...</td>\n",
       "      <td>Meli12896maty am 05.01.2021: Hallo Moi \\n\\nGeh...</td>\n",
       "      <td>https://www.klinikbewertungen.de/klinik-forum/...</td>\n",
       "      <td>1062021</td>\n",
       "    </tr>\n",
       "    <tr>\n",
       "      <th>9</th>\n",
       "      <td>MediClin Seepark Klinik</td>\n",
       "      <td>Keinname4</td>\n",
       "      <td>klinik Bad bodenteich</td>\n",
       "      <td>19082020</td>\n",
       "      <td>Jahr der Behandlung: 2020</td>\n",
       "      <td>berichtet als Patient</td>\n",
       "      <td>Daumen runter</td>\n",
       "      <td>Psychosomatik</td>\n",
       "      <td>0</td>\n",
       "      <td>unzufrieden\\n</td>\n",
       "      <td>...</td>\n",
       "      <td>2.0</td>\n",
       "      <td>weniger zufrieden\\n</td>\n",
       "      <td>Sport Therapeuten sehr zuvorkommen</td>\n",
       "      <td>-</td>\n",
       "      <td>Psychosomatik</td>\n",
       "      <td>nein</td>\n",
       "      <td>Als erstes, wenn möglich sucht euch eine ander...</td>\n",
       "      <td>Kein Kommentar</td>\n",
       "      <td>https://www.klinikbewertungen.de/klinik-forum/...</td>\n",
       "      <td>1062021</td>\n",
       "    </tr>\n",
       "    <tr>\n",
       "      <th>10</th>\n",
       "      <td>MediClin Seepark Klinik</td>\n",
       "      <td>Anna133</td>\n",
       "      <td>Erfolgversprechender Versuch - leider ein Fehl...</td>\n",
       "      <td>15072020</td>\n",
       "      <td>Jahr der Behandlung: 2018</td>\n",
       "      <td>berichtet als Patient</td>\n",
       "      <td>Daumen runter</td>\n",
       "      <td>Psychosomatik</td>\n",
       "      <td>2</td>\n",
       "      <td>weniger zufrieden\\n</td>\n",
       "      <td>...</td>\n",
       "      <td>2.0</td>\n",
       "      <td>weniger zufrieden\\n</td>\n",
       "      <td>Konzept, Mahlzeiten, Diätassistenten, Stations...</td>\n",
       "      <td>zuständige Oberärztin, fehlerhafte Kommunikati...</td>\n",
       "      <td>Essstörung, Depression, Persönlichkeitsstörung</td>\n",
       "      <td>nein</td>\n",
       "      <td>Ich kam im Oktober 2018 an einem psychischen T...</td>\n",
       "      <td>Kein Kommentar</td>\n",
       "      <td>https://www.klinikbewertungen.de/klinik-forum/...</td>\n",
       "      <td>1062021</td>\n",
       "    </tr>\n",
       "    <tr>\n",
       "      <th>11</th>\n",
       "      <td>MediClin Seepark Klinik</td>\n",
       "      <td>RalfDr</td>\n",
       "      <td>Gute Einrichtung die mich wieder zusammengeset...</td>\n",
       "      <td>15072020</td>\n",
       "      <td>Jahr der Behandlung: 2020</td>\n",
       "      <td>berichtet als Patient</td>\n",
       "      <td>Daumen hoch</td>\n",
       "      <td>Psychiatrie</td>\n",
       "      <td>6</td>\n",
       "      <td>sehr zufrieden\\n</td>\n",
       "      <td>...</td>\n",
       "      <td>4.0</td>\n",
       "      <td>zufrieden\\n</td>\n",
       "      <td>Therapeuten, Küchencrew, Fitnessbereich</td>\n",
       "      <td>bezahlbares WLAN und Fernsehen</td>\n",
       "      <td>Depression und Angstzustände</td>\n",
       "      <td>nein</td>\n",
       "      <td>Nach einem siebenwöchigen Aufenthalt in der Se...</td>\n",
       "      <td>Kein Kommentar</td>\n",
       "      <td>https://www.klinikbewertungen.de/klinik-forum/...</td>\n",
       "      <td>1062021</td>\n",
       "    </tr>\n",
       "    <tr>\n",
       "      <th>12</th>\n",
       "      <td>MediClin Seepark Klinik</td>\n",
       "      <td>Honide</td>\n",
       "      <td>Hervorragende Klinik</td>\n",
       "      <td>8072020</td>\n",
       "      <td>Jahr der Behandlung: 20</td>\n",
       "      <td>berichtet als Patient</td>\n",
       "      <td>Daumen hoch</td>\n",
       "      <td>Psychosomatik</td>\n",
       "      <td>4</td>\n",
       "      <td>zufrieden\\n</td>\n",
       "      <td>...</td>\n",
       "      <td>4.0</td>\n",
       "      <td>zufrieden\\n</td>\n",
       "      <td>Sehr freundlicher Umgang</td>\n",
       "      <td>Wegen Korona kleine Auswahl an Essen</td>\n",
       "      <td>Depression</td>\n",
       "      <td>nein</td>\n",
       "      <td>Hallo! Die Klinik ist hervorragend bei der Dia...</td>\n",
       "      <td>Kein Kommentar</td>\n",
       "      <td>https://www.klinikbewertungen.de/klinik-forum/...</td>\n",
       "      <td>1062021</td>\n",
       "    </tr>\n",
       "    <tr>\n",
       "      <th>13</th>\n",
       "      <td>MediClin Seepark Klinik</td>\n",
       "      <td>Bacon</td>\n",
       "      <td>Sehr Positiver Aufenthalt trotz Corona - ich g...</td>\n",
       "      <td>23062020</td>\n",
       "      <td>Jahr der Behandlung: 2020</td>\n",
       "      <td>berichtet als Patient</td>\n",
       "      <td>Daumen hoch</td>\n",
       "      <td>Psychosomatik</td>\n",
       "      <td>6</td>\n",
       "      <td>sehr zufrieden (Danke Frau Hermanns, Frau Lins...</td>\n",
       "      <td>...</td>\n",
       "      <td>4.0</td>\n",
       "      <td>zufrieden (+ Sauna/Schwimmbad/Turnahlle/Klette...</td>\n",
       "      <td>Das super Team, besonders möchte ich hier Frau...</td>\n",
       "      <td>-</td>\n",
       "      <td>Adipositas</td>\n",
       "      <td>nein</td>\n",
       "      <td>Hallo zusammen,   ich durfte Anfang des Jahres...</td>\n",
       "      <td>Gisela01 am 25.06.2020: Hallo Bacon, würde ger...</td>\n",
       "      <td>https://www.klinikbewertungen.de/klinik-forum/...</td>\n",
       "      <td>1062021</td>\n",
       "    </tr>\n",
       "    <tr>\n",
       "      <th>14</th>\n",
       "      <td>MediClin Seepark Klinik</td>\n",
       "      <td>Luisa0207</td>\n",
       "      <td>Gute Klinik</td>\n",
       "      <td>11062020</td>\n",
       "      <td>Jahr der Behandlung: 2016</td>\n",
       "      <td>berichtet als Patient</td>\n",
       "      <td>Daumen hoch</td>\n",
       "      <td>Psychosomatik</td>\n",
       "      <td>4</td>\n",
       "      <td>zufrieden\\n</td>\n",
       "      <td>...</td>\n",
       "      <td>4.0</td>\n",
       "      <td>zufrieden\\n</td>\n",
       "      <td>Diätassistenten, Essen, Kunsttherapie, Umgebung</td>\n",
       "      <td>Therapeutenwechsel</td>\n",
       "      <td>Anorexie</td>\n",
       "      <td>nein</td>\n",
       "      <td>Ich war von Januar bis April 2016 in der Medic...</td>\n",
       "      <td>Kein Kommentar</td>\n",
       "      <td>https://www.klinikbewertungen.de/klinik-forum/...</td>\n",
       "      <td>1062021</td>\n",
       "    </tr>\n",
       "    <tr>\n",
       "      <th>15</th>\n",
       "      <td>MediClin Seepark Klinik</td>\n",
       "      <td>Chibitotoro</td>\n",
       "      <td>Reha trotz Corona</td>\n",
       "      <td>25042020</td>\n",
       "      <td>Jahr der Behandlung: 2020</td>\n",
       "      <td>berichtet als Patient</td>\n",
       "      <td>Daumen hoch</td>\n",
       "      <td>Psychosomatik</td>\n",
       "      <td>4</td>\n",
       "      <td>zufrieden\\n</td>\n",
       "      <td>...</td>\n",
       "      <td>4.0</td>\n",
       "      <td>zufrieden\\n</td>\n",
       "      <td>Soziale Kontakte, Fitnessangebot, Schwimmbad</td>\n",
       "      <td>Einzeltherapie, Gruppentherapie</td>\n",
       "      <td>Borderline, Depersonalisation</td>\n",
       "      <td>nein</td>\n",
       "      <td>Ich bin aufgrund von Borderline und Depersonal...</td>\n",
       "      <td>Kein Kommentar</td>\n",
       "      <td>https://www.klinikbewertungen.de/klinik-forum/...</td>\n",
       "      <td>1062021</td>\n",
       "    </tr>\n",
       "    <tr>\n",
       "      <th>16</th>\n",
       "      <td>MediClin Seepark Klinik</td>\n",
       "      <td>Dragon60</td>\n",
       "      <td>Für Krankheitsbild Depression nicht zu empfehlen!</td>\n",
       "      <td>24042020</td>\n",
       "      <td>Jahr der Behandlung: 2019</td>\n",
       "      <td>berichtet als Patient</td>\n",
       "      <td>Daumen runter</td>\n",
       "      <td>Psychosomatik</td>\n",
       "      <td>0</td>\n",
       "      <td>unzufrieden\\n</td>\n",
       "      <td>...</td>\n",
       "      <td>4.0</td>\n",
       "      <td>zufrieden\\n</td>\n",
       "      <td>Küchenpersonal, Therapeuten wie schon im Text ...</td>\n",
       "      <td>Oberärtin, Chefarzt, Sozialdienst</td>\n",
       "      <td>Depression</td>\n",
       "      <td>nein</td>\n",
       "      <td>Leider wurde ich wegen meiner schweren Depress...</td>\n",
       "      <td>Kein Kommentar</td>\n",
       "      <td>https://www.klinikbewertungen.de/klinik-forum/...</td>\n",
       "      <td>1062021</td>\n",
       "    </tr>\n",
       "    <tr>\n",
       "      <th>17</th>\n",
       "      <td>MediClin Seepark Klinik</td>\n",
       "      <td>Aram2309</td>\n",
       "      <td>Eine tolle Klinik und sehr zu empfehlen</td>\n",
       "      <td>21042020</td>\n",
       "      <td>Jahr der Behandlung: 2020</td>\n",
       "      <td>berichtet als Patient</td>\n",
       "      <td>Daumen hoch</td>\n",
       "      <td>Psychosomatik</td>\n",
       "      <td>6</td>\n",
       "      <td>sehr zufrieden\\n</td>\n",
       "      <td>...</td>\n",
       "      <td>6.0</td>\n",
       "      <td>sehr zufrieden\\n</td>\n",
       "      <td>Herzliche Atmosphäre</td>\n",
       "      <td>kein Kontra</td>\n",
       "      <td>psychosomatische Beschwerden</td>\n",
       "      <td>nein</td>\n",
       "      <td>Ich war von Anfang März bis April 2020 5 Woche...</td>\n",
       "      <td>Kein Kommentar</td>\n",
       "      <td>https://www.klinikbewertungen.de/klinik-forum/...</td>\n",
       "      <td>1062021</td>\n",
       "    </tr>\n",
       "    <tr>\n",
       "      <th>18</th>\n",
       "      <td>MediClin Seepark Klinik</td>\n",
       "      <td>SabineBotsamsta</td>\n",
       "      <td>Nicht wieder</td>\n",
       "      <td>20042020</td>\n",
       "      <td>Jahr der Behandlung: 2017, 2018</td>\n",
       "      <td>berichtet als Angehöriger eines Patienten     ...</td>\n",
       "      <td>Daumen runter</td>\n",
       "      <td>Psychosomatik</td>\n",
       "      <td>2</td>\n",
       "      <td>weniger zufrieden\\n</td>\n",
       "      <td>...</td>\n",
       "      <td>2.0</td>\n",
       "      <td>weniger zufrieden\\n</td>\n",
       "      <td>Manche Schwestern, Diätassistentin, Therapeutin</td>\n",
       "      <td>Viele der Mitarbeiter, Therapieplan, Geruch</td>\n",
       "      <td>Anorexie</td>\n",
       "      <td>nein</td>\n",
       "      <td>Meine Tochter war auf der Kinder und Jugendsta...</td>\n",
       "      <td>Kein Kommentar</td>\n",
       "      <td>https://www.klinikbewertungen.de/klinik-forum/...</td>\n",
       "      <td>1062021</td>\n",
       "    </tr>\n",
       "    <tr>\n",
       "      <th>19</th>\n",
       "      <td>MediClin Seepark Klinik</td>\n",
       "      <td>SaskiaHlwf</td>\n",
       "      <td>Nicht unbedingt empfehlenswert</td>\n",
       "      <td>20042020</td>\n",
       "      <td>Jahr der Behandlung: 2018-2020</td>\n",
       "      <td>berichtet als Patient</td>\n",
       "      <td>Daumen runter</td>\n",
       "      <td>Psychosomatik</td>\n",
       "      <td>2</td>\n",
       "      <td>weniger zufrieden\\n</td>\n",
       "      <td>...</td>\n",
       "      <td>2.0</td>\n",
       "      <td>weniger zufrieden\\n</td>\n",
       "      <td>Manche Angestellte</td>\n",
       "      <td>Viele Mitarbeiter, Struktur, Behandlung, Zimme...</td>\n",
       "      <td>Anorexie, Depression</td>\n",
       "      <td>nein</td>\n",
       "      <td>Die Schwestern die für die Kinder und Jugendst...</td>\n",
       "      <td>Kein Kommentar</td>\n",
       "      <td>https://www.klinikbewertungen.de/klinik-forum/...</td>\n",
       "      <td>1062021</td>\n",
       "    </tr>\n",
       "  </tbody>\n",
       "</table>\n",
       "<p>20 rows × 26 columns</p>\n",
       "</div>"
      ],
      "text/plain": [
       "                 Klinikname       Nutzername  \\\n",
       "0   MediClin Seepark Klinik        Noname136   \n",
       "1   MediClin Seepark Klinik         noname22   \n",
       "2   MediClin Seepark Klinik            Cl.A.   \n",
       "3   MediClin Seepark Klinik              xx.   \n",
       "4   MediClin Seepark Klinik           Ellie.   \n",
       "5   MediClin Seepark Klinik           BigM20   \n",
       "6   MediClin Seepark Klinik        LeonyHope   \n",
       "7   MediClin Seepark Klinik    meingeheimnis   \n",
       "8   MediClin Seepark Klinik             moi5   \n",
       "9   MediClin Seepark Klinik        Keinname4   \n",
       "10  MediClin Seepark Klinik          Anna133   \n",
       "11  MediClin Seepark Klinik           RalfDr   \n",
       "12  MediClin Seepark Klinik           Honide   \n",
       "13  MediClin Seepark Klinik            Bacon   \n",
       "14  MediClin Seepark Klinik        Luisa0207   \n",
       "15  MediClin Seepark Klinik      Chibitotoro   \n",
       "16  MediClin Seepark Klinik         Dragon60   \n",
       "17  MediClin Seepark Klinik         Aram2309   \n",
       "18  MediClin Seepark Klinik  SabineBotsamsta   \n",
       "19  MediClin Seepark Klinik       SaskiaHlwf   \n",
       "\n",
       "                                                Titel     Datum  \\\n",
       "0                      Organisation ist ein Fremdwort  19052021   \n",
       "1                          Es war die Hölle auf Erden  11042021   \n",
       "2                                    Abschlussbericht  11042021   \n",
       "3          Zum größten Teil nicht weiter zu empfehlen   4042021   \n",
       "4                        Durchaus ein Ort zum Genesen  28032021   \n",
       "5                                      Slechte Klinik  28012021   \n",
       "6                                 Kein Ort zum Gesen.  20122020   \n",
       "7                                 Gute Klinik aber...  16112020   \n",
       "8                                    hoffe nicht mehr   4092020   \n",
       "9                               klinik Bad bodenteich  19082020   \n",
       "10  Erfolgversprechender Versuch - leider ein Fehl...  15072020   \n",
       "11  Gute Einrichtung die mich wieder zusammengeset...  15072020   \n",
       "12                               Hervorragende Klinik   8072020   \n",
       "13  Sehr Positiver Aufenthalt trotz Corona - ich g...  23062020   \n",
       "14                                        Gute Klinik  11062020   \n",
       "15                                  Reha trotz Corona  25042020   \n",
       "16  Für Krankheitsbild Depression nicht zu empfehlen!  24042020   \n",
       "17            Eine tolle Klinik und sehr zu empfehlen  21042020   \n",
       "18                                       Nicht wieder  20042020   \n",
       "19                     Nicht unbedingt empfehlenswert  20042020   \n",
       "\n",
       "                       Behandlungsjahr  \\\n",
       "0           Jahr der Behandlung: 20121   \n",
       "1           Jahr der Behandlung: 18      \n",
       "2         Jahr der Behandlung: 2020      \n",
       "3        Jahr der Behandlung: 2020 /21   \n",
       "4         Jahr der Behandlung: 2020      \n",
       "5         Jahr der Behandlung: 2020      \n",
       "6         Jahr der Behandlung: 2020      \n",
       "7         Jahr der Behandlung: 2020      \n",
       "8         Jahr der Behandlung: 2020      \n",
       "9         Jahr der Behandlung: 2020      \n",
       "10        Jahr der Behandlung: 2018      \n",
       "11        Jahr der Behandlung: 2020      \n",
       "12          Jahr der Behandlung: 20      \n",
       "13        Jahr der Behandlung: 2020      \n",
       "14        Jahr der Behandlung: 2016      \n",
       "15        Jahr der Behandlung: 2020      \n",
       "16        Jahr der Behandlung: 2019      \n",
       "17        Jahr der Behandlung: 2020      \n",
       "18  Jahr der Behandlung: 2017, 2018      \n",
       "19   Jahr der Behandlung: 2018-2020      \n",
       "\n",
       "                                        Berichtet als  \\\n",
       "0                     berichtet als Patient             \n",
       "1                     berichtet als Patient             \n",
       "2                     berichtet als Patient             \n",
       "3                     berichtet als Patient             \n",
       "4                     berichtet als Patient             \n",
       "5                     berichtet als Patient             \n",
       "6                     berichtet als Patient             \n",
       "7                     berichtet als Patient             \n",
       "8                     berichtet als Patient             \n",
       "9                     berichtet als Patient             \n",
       "10                    berichtet als Patient             \n",
       "11                    berichtet als Patient             \n",
       "12                    berichtet als Patient             \n",
       "13                    berichtet als Patient             \n",
       "14                    berichtet als Patient             \n",
       "15                    berichtet als Patient             \n",
       "16                    berichtet als Patient             \n",
       "17                    berichtet als Patient             \n",
       "18  berichtet als Angehöriger eines Patienten     ...   \n",
       "19                    berichtet als Patient             \n",
       "\n",
       "         Daumen hoch/runter    Fachbereich  Gesamtzufriedenheit  \\\n",
       "0   Kein Daumen hoch/runter  Psychosomatik                    2   \n",
       "1             Daumen runter  Psychosomatik                    0   \n",
       "2             Daumen runter  Psychosomatik                    0   \n",
       "3   Kein Daumen hoch/runter  Psychosomatik                    2   \n",
       "4               Daumen hoch  Psychosomatik                    4   \n",
       "5             Daumen runter  Psychosomatik                    0   \n",
       "6             Daumen runter  Psychosomatik                    0   \n",
       "7               Daumen hoch  Psychosomatik                    4   \n",
       "8             Daumen runter  Psychosomatik                    0   \n",
       "9             Daumen runter  Psychosomatik                    0   \n",
       "10            Daumen runter  Psychosomatik                    2   \n",
       "11              Daumen hoch    Psychiatrie                    6   \n",
       "12              Daumen hoch  Psychosomatik                    4   \n",
       "13              Daumen hoch  Psychosomatik                    6   \n",
       "14              Daumen hoch  Psychosomatik                    4   \n",
       "15              Daumen hoch  Psychosomatik                    4   \n",
       "16            Daumen runter  Psychosomatik                    0   \n",
       "17              Daumen hoch  Psychosomatik                    6   \n",
       "18            Daumen runter  Psychosomatik                    2   \n",
       "19            Daumen runter  Psychosomatik                    2   \n",
       "\n",
       "                         Textuell Gesamtzufriedenheit  ...  \\\n",
       "0                                 weniger zufrieden\\n  ...   \n",
       "1                                       unzufrieden\\n  ...   \n",
       "2                          unzufrieden (Siehe oben)\\n  ...   \n",
       "3                                 weniger zufrieden\\n  ...   \n",
       "4                                         zufrieden\\n  ...   \n",
       "5                                       unzufrieden\\n  ...   \n",
       "6                                       unzufrieden\\n  ...   \n",
       "7                                         zufrieden\\n  ...   \n",
       "8                                       unzufrieden\\n  ...   \n",
       "9                                       unzufrieden\\n  ...   \n",
       "10                                weniger zufrieden\\n  ...   \n",
       "11                                   sehr zufrieden\\n  ...   \n",
       "12                                        zufrieden\\n  ...   \n",
       "13  sehr zufrieden (Danke Frau Hermanns, Frau Lins...  ...   \n",
       "14                                        zufrieden\\n  ...   \n",
       "15                                        zufrieden\\n  ...   \n",
       "16                                      unzufrieden\\n  ...   \n",
       "17                                   sehr zufrieden\\n  ...   \n",
       "18                                weniger zufrieden\\n  ...   \n",
       "19                                weniger zufrieden\\n  ...   \n",
       "\n",
       "    Ausstattung und Gestaltung  \\\n",
       "0                          2.0   \n",
       "1                          2.0   \n",
       "2                          2.0   \n",
       "3                          2.0   \n",
       "4                          6.0   \n",
       "5                          2.0   \n",
       "6                          0.0   \n",
       "7                          2.0   \n",
       "8                          0.0   \n",
       "9                          2.0   \n",
       "10                         2.0   \n",
       "11                         4.0   \n",
       "12                         4.0   \n",
       "13                         4.0   \n",
       "14                         4.0   \n",
       "15                         4.0   \n",
       "16                         4.0   \n",
       "17                         6.0   \n",
       "18                         2.0   \n",
       "19                         2.0   \n",
       "\n",
       "                  Textuell Ausstattung und Gestaltung  \\\n",
       "0                                 weniger zufrieden\\n   \n",
       "1   weniger zufrieden (In den Zimmern roch es nach...   \n",
       "2   weniger zufrieden (Null acht fünfzehn- Program...   \n",
       "3                                 weniger zufrieden\\n   \n",
       "4                                    sehr zufrieden\\n   \n",
       "5                                 weniger zufrieden\\n   \n",
       "6                                       unzufrieden\\n   \n",
       "7                                 weniger zufrieden\\n   \n",
       "8                                       unzufrieden\\n   \n",
       "9                                 weniger zufrieden\\n   \n",
       "10                                weniger zufrieden\\n   \n",
       "11                                        zufrieden\\n   \n",
       "12                                        zufrieden\\n   \n",
       "13  zufrieden (+ Sauna/Schwimmbad/Turnahlle/Klette...   \n",
       "14                                        zufrieden\\n   \n",
       "15                                        zufrieden\\n   \n",
       "16                                        zufrieden\\n   \n",
       "17                                   sehr zufrieden\\n   \n",
       "18                                weniger zufrieden\\n   \n",
       "19                                weniger zufrieden\\n   \n",
       "\n",
       "                                                  Pro  \\\n",
       "0        Die Schwestern der MZ, Ernährungstherapeuten   \n",
       "1                       die Kunsttherapie war klasse!   \n",
       "2                                                   -   \n",
       "3                                           Das Essen   \n",
       "4   Direkte (aber nette) und offene Art mit der Er...   \n",
       "5                                          Der Kaffee   \n",
       "6     Für extremst untergewichtige Patienten geeignet   \n",
       "7                                          Fast alles   \n",
       "8                                                 nix   \n",
       "9                  Sport Therapeuten sehr zuvorkommen   \n",
       "10  Konzept, Mahlzeiten, Diätassistenten, Stations...   \n",
       "11            Therapeuten, Küchencrew, Fitnessbereich   \n",
       "12                           Sehr freundlicher Umgang   \n",
       "13  Das super Team, besonders möchte ich hier Frau...   \n",
       "14    Diätassistenten, Essen, Kunsttherapie, Umgebung   \n",
       "15       Soziale Kontakte, Fitnessangebot, Schwimmbad   \n",
       "16  Küchenpersonal, Therapeuten wie schon im Text ...   \n",
       "17                               Herzliche Atmosphäre   \n",
       "18    Manche Schwestern, Diätassistentin, Therapeutin   \n",
       "19                                 Manche Angestellte   \n",
       "\n",
       "                                               Kontra  \\\n",
       "0                                       siehe Bericht   \n",
       "1   Therapeuten; das Essen; Ich als Patient wurde ...   \n",
       "2                              Nein siehe oben!!!!!!!   \n",
       "3                Die Mitarbeiter, Chefarzt, Therapien   \n",
       "4                                                   -   \n",
       "5          Personal ist ihre Aufgaben nicht gewachsen   \n",
       "6                               Eine Nummer im System   \n",
       "7   Die immer gleichen Patienten die das scheinbar...   \n",
       "8                                                   -   \n",
       "9                                                   -   \n",
       "10  zuständige Oberärztin, fehlerhafte Kommunikati...   \n",
       "11                     bezahlbares WLAN und Fernsehen   \n",
       "12               Wegen Korona kleine Auswahl an Essen   \n",
       "13                                                  -   \n",
       "14                                 Therapeutenwechsel   \n",
       "15                    Einzeltherapie, Gruppentherapie   \n",
       "16                  Oberärtin, Chefarzt, Sozialdienst   \n",
       "17                                        kein Kontra   \n",
       "18        Viele der Mitarbeiter, Therapieplan, Geruch   \n",
       "19  Viele Mitarbeiter, Struktur, Behandlung, Zimme...   \n",
       "\n",
       "                                       Krankheitsbild Privatpatient  \\\n",
       "0                               Bulemie, Depressionen          nein   \n",
       "1                                          Depression          nein   \n",
       "2   Nachsorge und Begleitung nach einer Magen-Oper...          nein   \n",
       "3                                            Anorexie          nein   \n",
       "4                              Anorexie, Depressionen          nein   \n",
       "5                                        Depressionen          nein   \n",
       "6                                            Anorexie          nein   \n",
       "7                                            Anorexie          nein   \n",
       "8                                     psychosomatisch          nein   \n",
       "9                                       Psychosomatik          nein   \n",
       "10     Essstörung, Depression, Persönlichkeitsstörung          nein   \n",
       "11                       Depression und Angstzustände          nein   \n",
       "12                                         Depression          nein   \n",
       "13                                         Adipositas          nein   \n",
       "14                                           Anorexie          nein   \n",
       "15                      Borderline, Depersonalisation          nein   \n",
       "16                                         Depression          nein   \n",
       "17                       psychosomatische Beschwerden          nein   \n",
       "18                                           Anorexie          nein   \n",
       "19                               Anorexie, Depression          nein   \n",
       "\n",
       "                                    Erfahrungsbericht  \\\n",
       "0   Hatte mir mehr versprochen  Die Organisation l...   \n",
       "1   Es war die absolute Hölle!  Die Therapeuten ka...   \n",
       "2   Als grundpositiv eingestellter Mensch wollte i...   \n",
       "3   Ich war für ca 5 Monate in der Klinik gewesen....   \n",
       "4   Als ich in die Klinik ankam, wurde ich freundl...   \n",
       "5   Eine sehr slechte Klinik die mich wenig gutes ...   \n",
       "6   Diese Bewertung bezieht sich auf die Akutstati...   \n",
       "7   Ich war selbst mehrfach im Akutbereich der SPK...   \n",
       "8   Ich soll in diese Klinik, weil es mir schlecht...   \n",
       "9   Als erstes, wenn möglich sucht euch eine ander...   \n",
       "10  Ich kam im Oktober 2018 an einem psychischen T...   \n",
       "11  Nach einem siebenwöchigen Aufenthalt in der Se...   \n",
       "12  Hallo! Die Klinik ist hervorragend bei der Dia...   \n",
       "13  Hallo zusammen,   ich durfte Anfang des Jahres...   \n",
       "14  Ich war von Januar bis April 2016 in der Medic...   \n",
       "15  Ich bin aufgrund von Borderline und Depersonal...   \n",
       "16  Leider wurde ich wegen meiner schweren Depress...   \n",
       "17  Ich war von Anfang März bis April 2020 5 Woche...   \n",
       "18  Meine Tochter war auf der Kinder und Jugendsta...   \n",
       "19  Die Schwestern die für die Kinder und Jugendst...   \n",
       "\n",
       "                                           Kommentare  \\\n",
       "0                                      Kein Kommentar   \n",
       "1                                      Kein Kommentar   \n",
       "2                                      Kein Kommentar   \n",
       "3                                      Kein Kommentar   \n",
       "4                                      Kein Kommentar   \n",
       "5                                      Kein Kommentar   \n",
       "6                                      Kein Kommentar   \n",
       "7                                      Kein Kommentar   \n",
       "8   Meli12896maty am 05.01.2021: Hallo Moi \\n\\nGeh...   \n",
       "9                                      Kein Kommentar   \n",
       "10                                     Kein Kommentar   \n",
       "11                                     Kein Kommentar   \n",
       "12                                     Kein Kommentar   \n",
       "13  Gisela01 am 25.06.2020: Hallo Bacon, würde ger...   \n",
       "14                                     Kein Kommentar   \n",
       "15                                     Kein Kommentar   \n",
       "16                                     Kein Kommentar   \n",
       "17                                     Kein Kommentar   \n",
       "18                                     Kein Kommentar   \n",
       "19                                     Kein Kommentar   \n",
       "\n",
       "                                                  URL Extraktionsdatum  \n",
       "0   https://www.klinikbewertungen.de/klinik-forum/...          1062021  \n",
       "1   https://www.klinikbewertungen.de/klinik-forum/...          1062021  \n",
       "2   https://www.klinikbewertungen.de/klinik-forum/...          1062021  \n",
       "3   https://www.klinikbewertungen.de/klinik-forum/...          1062021  \n",
       "4   https://www.klinikbewertungen.de/klinik-forum/...          1062021  \n",
       "5   https://www.klinikbewertungen.de/klinik-forum/...          1062021  \n",
       "6   https://www.klinikbewertungen.de/klinik-forum/...          1062021  \n",
       "7   https://www.klinikbewertungen.de/klinik-forum/...          1062021  \n",
       "8   https://www.klinikbewertungen.de/klinik-forum/...          1062021  \n",
       "9   https://www.klinikbewertungen.de/klinik-forum/...          1062021  \n",
       "10  https://www.klinikbewertungen.de/klinik-forum/...          1062021  \n",
       "11  https://www.klinikbewertungen.de/klinik-forum/...          1062021  \n",
       "12  https://www.klinikbewertungen.de/klinik-forum/...          1062021  \n",
       "13  https://www.klinikbewertungen.de/klinik-forum/...          1062021  \n",
       "14  https://www.klinikbewertungen.de/klinik-forum/...          1062021  \n",
       "15  https://www.klinikbewertungen.de/klinik-forum/...          1062021  \n",
       "16  https://www.klinikbewertungen.de/klinik-forum/...          1062021  \n",
       "17  https://www.klinikbewertungen.de/klinik-forum/...          1062021  \n",
       "18  https://www.klinikbewertungen.de/klinik-forum/...          1062021  \n",
       "19  https://www.klinikbewertungen.de/klinik-forum/...          1062021  \n",
       "\n",
       "[20 rows x 26 columns]"
      ]
     },
     "execution_count": 4,
     "metadata": {},
     "output_type": "execute_result"
    }
   ],
   "source": [
    "data = pd.read_csv('klininkbew.csv', sep=\";\" ,encoding=\"cp1252\" )\n",
    "data.head(20)"
   ]
  },
  {
   "cell_type": "code",
   "execution_count": 5,
   "id": "28e01c36",
   "metadata": {},
   "outputs": [],
   "source": [
    "data = data[['Klinikname','Titel','Datum','Fachbereich','Gesamtzufriedenheit','Erfahrungsbericht']]\n"
   ]
  },
  {
   "cell_type": "code",
   "execution_count": 6,
   "id": "ef087e8a",
   "metadata": {},
   "outputs": [
    {
     "data": {
      "text/plain": [
       "Klinikname             0\n",
       "Titel                  0\n",
       "Datum                  0\n",
       "Fachbereich            0\n",
       "Gesamtzufriedenheit    0\n",
       "Erfahrungsbericht      0\n",
       "dtype: int64"
      ]
     },
     "execution_count": 6,
     "metadata": {},
     "output_type": "execute_result"
    }
   ],
   "source": [
    "#Anzahl der fehlenden Werte pro Spalte zu untersuchen.und prüfen, ob es fehlenden Werte gibt\n",
    "data.isnull().sum()\n"
   ]
  },
  {
   "cell_type": "code",
   "execution_count": 7,
   "id": "179c790e",
   "metadata": {},
   "outputs": [
    {
     "data": {
      "text/plain": [
       "Klinikname             object\n",
       "Titel                  object\n",
       "Datum                   int64\n",
       "Fachbereich            object\n",
       "Gesamtzufriedenheit     int64\n",
       "Erfahrungsbericht      object\n",
       "dtype: object"
      ]
     },
     "execution_count": 7,
     "metadata": {},
     "output_type": "execute_result"
    }
   ],
   "source": [
    "# Typ der Daten\n",
    "data.dtypes"
   ]
  },
  {
   "cell_type": "code",
   "execution_count": 8,
   "id": "bc11e671",
   "metadata": {
    "scrolled": true
   },
   "outputs": [
    {
     "data": {
      "text/html": [
       "<div>\n",
       "<style scoped>\n",
       "    .dataframe tbody tr th:only-of-type {\n",
       "        vertical-align: middle;\n",
       "    }\n",
       "\n",
       "    .dataframe tbody tr th {\n",
       "        vertical-align: top;\n",
       "    }\n",
       "\n",
       "    .dataframe thead th {\n",
       "        text-align: right;\n",
       "    }\n",
       "</style>\n",
       "<table border=\"1\" class=\"dataframe\">\n",
       "  <thead>\n",
       "    <tr style=\"text-align: right;\">\n",
       "      <th></th>\n",
       "      <th>Datum</th>\n",
       "      <th>Gesamtzufriedenheit</th>\n",
       "    </tr>\n",
       "  </thead>\n",
       "  <tbody>\n",
       "    <tr>\n",
       "      <th>count</th>\n",
       "      <td>3.032000e+03</td>\n",
       "      <td>3032.000000</td>\n",
       "    </tr>\n",
       "    <tr>\n",
       "      <th>mean</th>\n",
       "      <td>1.562025e+07</td>\n",
       "      <td>3.809367</td>\n",
       "    </tr>\n",
       "    <tr>\n",
       "      <th>std</th>\n",
       "      <td>8.617197e+06</td>\n",
       "      <td>2.593664</td>\n",
       "    </tr>\n",
       "    <tr>\n",
       "      <th>min</th>\n",
       "      <td>1.012010e+06</td>\n",
       "      <td>0.000000</td>\n",
       "    </tr>\n",
       "    <tr>\n",
       "      <th>25%</th>\n",
       "      <td>8.102010e+06</td>\n",
       "      <td>0.000000</td>\n",
       "    </tr>\n",
       "    <tr>\n",
       "      <th>50%</th>\n",
       "      <td>1.511201e+07</td>\n",
       "      <td>6.000000</td>\n",
       "    </tr>\n",
       "    <tr>\n",
       "      <th>75%</th>\n",
       "      <td>2.304201e+07</td>\n",
       "      <td>6.000000</td>\n",
       "    </tr>\n",
       "    <tr>\n",
       "      <th>max</th>\n",
       "      <td>3.112202e+07</td>\n",
       "      <td>6.000000</td>\n",
       "    </tr>\n",
       "  </tbody>\n",
       "</table>\n",
       "</div>"
      ],
      "text/plain": [
       "              Datum  Gesamtzufriedenheit\n",
       "count  3.032000e+03          3032.000000\n",
       "mean   1.562025e+07             3.809367\n",
       "std    8.617197e+06             2.593664\n",
       "min    1.012010e+06             0.000000\n",
       "25%    8.102010e+06             0.000000\n",
       "50%    1.511201e+07             6.000000\n",
       "75%    2.304201e+07             6.000000\n",
       "max    3.112202e+07             6.000000"
      ]
     },
     "execution_count": 8,
     "metadata": {},
     "output_type": "execute_result"
    }
   ],
   "source": [
    "data.describe()\n",
    "# Nur die Daten, die als Datentyp Intiger haben "
   ]
  },
  {
   "cell_type": "code",
   "execution_count": null,
   "id": "4fab5cf4",
   "metadata": {},
   "outputs": [],
   "source": []
  },
  {
   "cell_type": "code",
   "execution_count": 9,
   "id": "9296d74e",
   "metadata": {},
   "outputs": [
    {
     "data": {
      "text/plain": [
       "['Klinikname',\n",
       " 'Titel',\n",
       " 'Datum',\n",
       " 'Fachbereich',\n",
       " 'Gesamtzufriedenheit',\n",
       " 'Erfahrungsbericht']"
      ]
     },
     "execution_count": 9,
     "metadata": {},
     "output_type": "execute_result"
    }
   ],
   "source": [
    "data.columns.values.tolist()"
   ]
  },
  {
   "cell_type": "code",
   "execution_count": null,
   "id": "9c31eed4",
   "metadata": {},
   "outputs": [],
   "source": []
  },
  {
   "cell_type": "code",
   "execution_count": 10,
   "id": "9060a4c8",
   "metadata": {},
   "outputs": [
    {
     "data": {
      "text/plain": [
       "numpy.ndarray"
      ]
     },
     "execution_count": 10,
     "metadata": {},
     "output_type": "execute_result"
    }
   ],
   "source": [
    "Erfahrungsbericht = data.Erfahrungsbericht.values.tolist()\n",
    "type(data.Erfahrungsbericht.values)"
   ]
  },
  {
   "cell_type": "code",
   "execution_count": 11,
   "id": "af5e66bf",
   "metadata": {},
   "outputs": [
    {
     "data": {
      "text/plain": [
       "['Hatte mir mehr versprochen  Die Organisation lief oft sehr schief. Man bekam nicht bescheid wenn etwas ausfiel. Weshalb man gern mal vor verschlossenen Therapie Räumen stand.  Die Gruppentherapien konnten , wenn sie sehr aufwühlend waren, nur schwer bis gar nicht von der Therapeutin abgefangen werden . Die Therapeuten sind streckenweise noch sehr jung und arbeiten bereits neue junge therapeuten ein. Die Einzeltherapien fanden nur einmal pro Woche statt und das auch nur 30minuten. Schade. Vieles wird aufgewühlt und dann so stehen gelassen. Mit meiner Essstörung muss ich aber ein grosses Danke an die Ernährungstherapeuten aussprechen. Offen e und ehrliche Worte haben mir sehr geholfen. Die Schwestern der MZ haben vieles abgefangen und das mit viel Verständniss. Alles in allem geht es mir in manchen Dingen besser aber leider wurde vieles angefangen an Themen die ich jetzt weiter beaebeiten muss ohne zu wissen wie da mir in vielen Dingen einfach kein Weg aufgezeigt wurde. Mein Termin bei der sozialarbeiterin fiel leider mehrfach aus und am ende hiess es i muss mich selber kümmern.',\n",
       " 'Es war die absolute Hölle!  Die Therapeuten kannten die ihnen zugewiesenen Patienten überhaupt nicht (Massenabfertigung).  Wünsche, was besprochen werden soll wurden nicht berücksichtigt. Es wurde eine Baustelle nach der anderen aufgemacht ohne Ansatz einer Therapie.  Der Speisesaal war die Hölle. Viel zu voll und viel zu laut. Das Essen war eine Zumutung.  Nach der Reha war ich kränker als davor und musste in die Psychiatrie weil gar nichts mehr ging.  Die Ärzte in Bad Bodenteich sprechen anscheinend nicht miteinander. Ich habe versucht falsch laufende Sachen in meiner Therapie zu klären. Ich wurde abgewiegelt, nicht ernst genommen. Uns wurde gesagt, dass wir die Reha nicht abbrechen dürfen, da uns dann Nachteile bei der RV entstehen. Das ist absoluter Blödsinn!!!  Ich wurde von der Klinik in die Wiedereingliederung gedrängt obwohl ich den Ärzten und dem Sozialdienst sagte, dass ich definitiv noch nicht arbeiten kann. Es war ihnen egal. Ich als Patient war ihnen scheiß egal! In diese Klinik bekommt mich niemand mehr.',\n",
       " 'Als grundpositiv eingestellter Mensch wollte ich mich von den vielen negativen Bewertungen nicht beeinflussen lassen.  Meine eigenen Erfahrungen vor ca. 7 Monaten haben aber wenig positives unter dem Strich gebracht. Für Akutpatienten mag die Klinik geeignet sein, für Rehapatienten mit Magen-Operation war die Begleitung lausig. Es gab bei der Ernährungsberatung, der Gruppenbegleitung, Physios, Rezeption und Med. Zentrale gute Mitarbeiter*innen.  Jedoch im Bereich der medizinischen bzw. psychologischen Betreuung hatten die negativen Erfahrungen starken Überhang. Unfähig mit einer selbständig denkenden Patientin umzugehen und sich durch Vorschlag die Reha abzubrechen aus der Situation zu ziehen war das Ergebnis. Der Abschlussbericht entsprach nicht der Realität.  Insgesamt betrachtet kann ich -auch nach längerer Überlegung- diese Klinik nicht empfehlen. Es sei denn man ist ein Mensch, der zu Beginn der Reha seinen Verstand und klare Vorstellung einer Reha und eigene Ziele am Eingang abgibt.  SEHR SCHADE DIE 3 VON 5 VORGESEHENEN WOCHEN WAREN ZEIT- UND RESSOURCENVERSCHWENDUNG INKL. VIEL ÄRGER MIT DER KLINIKLEITUNG UND FRUST ÜBER VERSCHWENDETE ZEIT. Cl. A.']"
      ]
     },
     "execution_count": 11,
     "metadata": {},
     "output_type": "execute_result"
    }
   ],
   "source": [
    "Erfahrungsbericht[:3]"
   ]
  },
  {
   "cell_type": "code",
   "execution_count": 12,
   "id": "30d25774",
   "metadata": {},
   "outputs": [
    {
     "data": {
      "text/plain": [
       "3032"
      ]
     },
     "execution_count": 12,
     "metadata": {},
     "output_type": "execute_result"
    }
   ],
   "source": [
    "len(data.Erfahrungsbericht)"
   ]
  },
  {
   "cell_type": "code",
   "execution_count": 13,
   "id": "a9abe210",
   "metadata": {},
   "outputs": [
    {
     "data": {
      "text/html": [
       "<div>\n",
       "<style scoped>\n",
       "    .dataframe tbody tr th:only-of-type {\n",
       "        vertical-align: middle;\n",
       "    }\n",
       "\n",
       "    .dataframe tbody tr th {\n",
       "        vertical-align: top;\n",
       "    }\n",
       "\n",
       "    .dataframe thead th {\n",
       "        text-align: right;\n",
       "    }\n",
       "</style>\n",
       "<table border=\"1\" class=\"dataframe\">\n",
       "  <thead>\n",
       "    <tr style=\"text-align: right;\">\n",
       "      <th></th>\n",
       "      <th>Klinikname</th>\n",
       "      <th>Titel</th>\n",
       "      <th>Datum</th>\n",
       "      <th>Fachbereich</th>\n",
       "      <th>Gesamtzufriedenheit</th>\n",
       "      <th>Erfahrungsbericht</th>\n",
       "    </tr>\n",
       "  </thead>\n",
       "  <tbody>\n",
       "    <tr>\n",
       "      <th>count</th>\n",
       "      <td>3032</td>\n",
       "      <td>3032</td>\n",
       "      <td>3.032000e+03</td>\n",
       "      <td>3032</td>\n",
       "      <td>3032.000000</td>\n",
       "      <td>3032</td>\n",
       "    </tr>\n",
       "    <tr>\n",
       "      <th>unique</th>\n",
       "      <td>21</td>\n",
       "      <td>2812</td>\n",
       "      <td>NaN</td>\n",
       "      <td>35</td>\n",
       "      <td>NaN</td>\n",
       "      <td>2997</td>\n",
       "    </tr>\n",
       "    <tr>\n",
       "      <th>top</th>\n",
       "      <td>MediClin Seepark Klinik</td>\n",
       "      <td>Sehr zufrieden</td>\n",
       "      <td>NaN</td>\n",
       "      <td>Psychosomatik</td>\n",
       "      <td>NaN</td>\n",
       "      <td></td>\n",
       "    </tr>\n",
       "    <tr>\n",
       "      <th>freq</th>\n",
       "      <td>383</td>\n",
       "      <td>9</td>\n",
       "      <td>NaN</td>\n",
       "      <td>433</td>\n",
       "      <td>NaN</td>\n",
       "      <td>35</td>\n",
       "    </tr>\n",
       "    <tr>\n",
       "      <th>mean</th>\n",
       "      <td>NaN</td>\n",
       "      <td>NaN</td>\n",
       "      <td>1.562025e+07</td>\n",
       "      <td>NaN</td>\n",
       "      <td>3.809367</td>\n",
       "      <td>NaN</td>\n",
       "    </tr>\n",
       "    <tr>\n",
       "      <th>std</th>\n",
       "      <td>NaN</td>\n",
       "      <td>NaN</td>\n",
       "      <td>8.617197e+06</td>\n",
       "      <td>NaN</td>\n",
       "      <td>2.593664</td>\n",
       "      <td>NaN</td>\n",
       "    </tr>\n",
       "    <tr>\n",
       "      <th>min</th>\n",
       "      <td>NaN</td>\n",
       "      <td>NaN</td>\n",
       "      <td>1.012010e+06</td>\n",
       "      <td>NaN</td>\n",
       "      <td>0.000000</td>\n",
       "      <td>NaN</td>\n",
       "    </tr>\n",
       "    <tr>\n",
       "      <th>25%</th>\n",
       "      <td>NaN</td>\n",
       "      <td>NaN</td>\n",
       "      <td>8.102010e+06</td>\n",
       "      <td>NaN</td>\n",
       "      <td>0.000000</td>\n",
       "      <td>NaN</td>\n",
       "    </tr>\n",
       "    <tr>\n",
       "      <th>50%</th>\n",
       "      <td>NaN</td>\n",
       "      <td>NaN</td>\n",
       "      <td>1.511201e+07</td>\n",
       "      <td>NaN</td>\n",
       "      <td>6.000000</td>\n",
       "      <td>NaN</td>\n",
       "    </tr>\n",
       "    <tr>\n",
       "      <th>75%</th>\n",
       "      <td>NaN</td>\n",
       "      <td>NaN</td>\n",
       "      <td>2.304201e+07</td>\n",
       "      <td>NaN</td>\n",
       "      <td>6.000000</td>\n",
       "      <td>NaN</td>\n",
       "    </tr>\n",
       "    <tr>\n",
       "      <th>max</th>\n",
       "      <td>NaN</td>\n",
       "      <td>NaN</td>\n",
       "      <td>3.112202e+07</td>\n",
       "      <td>NaN</td>\n",
       "      <td>6.000000</td>\n",
       "      <td>NaN</td>\n",
       "    </tr>\n",
       "  </tbody>\n",
       "</table>\n",
       "</div>"
      ],
      "text/plain": [
       "                     Klinikname           Titel         Datum    Fachbereich  \\\n",
       "count                      3032            3032  3.032000e+03           3032   \n",
       "unique                       21            2812           NaN             35   \n",
       "top     MediClin Seepark Klinik  Sehr zufrieden           NaN  Psychosomatik   \n",
       "freq                        383               9           NaN            433   \n",
       "mean                        NaN             NaN  1.562025e+07            NaN   \n",
       "std                         NaN             NaN  8.617197e+06            NaN   \n",
       "min                         NaN             NaN  1.012010e+06            NaN   \n",
       "25%                         NaN             NaN  8.102010e+06            NaN   \n",
       "50%                         NaN             NaN  1.511201e+07            NaN   \n",
       "75%                         NaN             NaN  2.304201e+07            NaN   \n",
       "max                         NaN             NaN  3.112202e+07            NaN   \n",
       "\n",
       "        Gesamtzufriedenheit Erfahrungsbericht  \n",
       "count           3032.000000              3032  \n",
       "unique                  NaN              2997  \n",
       "top                     NaN                    \n",
       "freq                    NaN                35  \n",
       "mean               3.809367               NaN  \n",
       "std                2.593664               NaN  \n",
       "min                0.000000               NaN  \n",
       "25%                0.000000               NaN  \n",
       "50%                6.000000               NaN  \n",
       "75%                6.000000               NaN  \n",
       "max                6.000000               NaN  "
      ]
     },
     "execution_count": 13,
     "metadata": {},
     "output_type": "execute_result"
    }
   ],
   "source": [
    "data.describe(include=\"all\")# describe fur alle Daten"
   ]
  },
  {
   "cell_type": "code",
   "execution_count": 14,
   "id": "05378b2e",
   "metadata": {},
   "outputs": [
    {
     "data": {
      "text/html": [
       "<div>\n",
       "<style scoped>\n",
       "    .dataframe tbody tr th:only-of-type {\n",
       "        vertical-align: middle;\n",
       "    }\n",
       "\n",
       "    .dataframe tbody tr th {\n",
       "        vertical-align: top;\n",
       "    }\n",
       "\n",
       "    .dataframe thead th {\n",
       "        text-align: right;\n",
       "    }\n",
       "</style>\n",
       "<table border=\"1\" class=\"dataframe\">\n",
       "  <thead>\n",
       "    <tr style=\"text-align: right;\">\n",
       "      <th></th>\n",
       "      <th>Gesamtzufriedenheit</th>\n",
       "    </tr>\n",
       "  </thead>\n",
       "  <tbody>\n",
       "    <tr>\n",
       "      <th>sehr zufrieden</th>\n",
       "      <td>1591</td>\n",
       "    </tr>\n",
       "    <tr>\n",
       "      <th>unzufrieden</th>\n",
       "      <td>827</td>\n",
       "    </tr>\n",
       "    <tr>\n",
       "      <th>zufrieden</th>\n",
       "      <td>388</td>\n",
       "    </tr>\n",
       "    <tr>\n",
       "      <th>weniger zufrieden</th>\n",
       "      <td>226</td>\n",
       "    </tr>\n",
       "  </tbody>\n",
       "</table>\n",
       "</div>"
      ],
      "text/plain": [
       "                   Gesamtzufriedenheit\n",
       "sehr zufrieden                    1591\n",
       "unzufrieden                        827\n",
       "zufrieden                          388\n",
       "weniger zufrieden                  226"
      ]
     },
     "execution_count": 14,
     "metadata": {},
     "output_type": "execute_result"
    }
   ],
   "source": [
    "val_zufrieden= data['Gesamtzufriedenheit'].value_counts().to_frame()\n",
    "val_zufrieden.index = [\"sehr zufrieden\",\"unzufrieden\",\"zufrieden\",\"weniger zufrieden\"]\n",
    "val_zufrieden"
   ]
  },
  {
   "cell_type": "code",
   "execution_count": 15,
   "id": "01a2bcad",
   "metadata": {},
   "outputs": [
    {
     "data": {
      "text/html": [
       "<div>\n",
       "<style scoped>\n",
       "    .dataframe tbody tr th:only-of-type {\n",
       "        vertical-align: middle;\n",
       "    }\n",
       "\n",
       "    .dataframe tbody tr th {\n",
       "        vertical-align: top;\n",
       "    }\n",
       "\n",
       "    .dataframe thead th {\n",
       "        text-align: right;\n",
       "    }\n",
       "</style>\n",
       "<table border=\"1\" class=\"dataframe\">\n",
       "  <thead>\n",
       "    <tr style=\"text-align: right;\">\n",
       "      <th></th>\n",
       "      <th>Klinikname</th>\n",
       "      <th>Titel</th>\n",
       "      <th>Datum</th>\n",
       "      <th>Fachbereich</th>\n",
       "      <th>Gesamtzufriedenheit</th>\n",
       "      <th>Erfahrungsbericht</th>\n",
       "      <th>Zufriedenheit</th>\n",
       "    </tr>\n",
       "  </thead>\n",
       "  <tbody>\n",
       "    <tr>\n",
       "      <th>0</th>\n",
       "      <td>MediClin Seepark Klinik</td>\n",
       "      <td>Organisation ist ein Fremdwort</td>\n",
       "      <td>19052021</td>\n",
       "      <td>Psychosomatik</td>\n",
       "      <td>2</td>\n",
       "      <td>Hatte mir mehr versprochen  Die Organisation l...</td>\n",
       "      <td>neg</td>\n",
       "    </tr>\n",
       "    <tr>\n",
       "      <th>1</th>\n",
       "      <td>MediClin Seepark Klinik</td>\n",
       "      <td>Es war die Hölle auf Erden</td>\n",
       "      <td>11042021</td>\n",
       "      <td>Psychosomatik</td>\n",
       "      <td>0</td>\n",
       "      <td>Es war die absolute Hölle!  Die Therapeuten ka...</td>\n",
       "      <td>neg</td>\n",
       "    </tr>\n",
       "    <tr>\n",
       "      <th>2</th>\n",
       "      <td>MediClin Seepark Klinik</td>\n",
       "      <td>Abschlussbericht</td>\n",
       "      <td>11042021</td>\n",
       "      <td>Psychosomatik</td>\n",
       "      <td>0</td>\n",
       "      <td>Als grundpositiv eingestellter Mensch wollte i...</td>\n",
       "      <td>neg</td>\n",
       "    </tr>\n",
       "    <tr>\n",
       "      <th>3</th>\n",
       "      <td>MediClin Seepark Klinik</td>\n",
       "      <td>Zum größten Teil nicht weiter zu empfehlen</td>\n",
       "      <td>4042021</td>\n",
       "      <td>Psychosomatik</td>\n",
       "      <td>2</td>\n",
       "      <td>Ich war für ca 5 Monate in der Klinik gewesen....</td>\n",
       "      <td>neg</td>\n",
       "    </tr>\n",
       "    <tr>\n",
       "      <th>4</th>\n",
       "      <td>MediClin Seepark Klinik</td>\n",
       "      <td>Durchaus ein Ort zum Genesen</td>\n",
       "      <td>28032021</td>\n",
       "      <td>Psychosomatik</td>\n",
       "      <td>4</td>\n",
       "      <td>Als ich in die Klinik ankam, wurde ich freundl...</td>\n",
       "      <td>pos</td>\n",
       "    </tr>\n",
       "  </tbody>\n",
       "</table>\n",
       "</div>"
      ],
      "text/plain": [
       "                Klinikname                                       Titel  \\\n",
       "0  MediClin Seepark Klinik              Organisation ist ein Fremdwort   \n",
       "1  MediClin Seepark Klinik                  Es war die Hölle auf Erden   \n",
       "2  MediClin Seepark Klinik                            Abschlussbericht   \n",
       "3  MediClin Seepark Klinik  Zum größten Teil nicht weiter zu empfehlen   \n",
       "4  MediClin Seepark Klinik                Durchaus ein Ort zum Genesen   \n",
       "\n",
       "      Datum    Fachbereich  Gesamtzufriedenheit  \\\n",
       "0  19052021  Psychosomatik                    2   \n",
       "1  11042021  Psychosomatik                    0   \n",
       "2  11042021  Psychosomatik                    0   \n",
       "3   4042021  Psychosomatik                    2   \n",
       "4  28032021  Psychosomatik                    4   \n",
       "\n",
       "                                   Erfahrungsbericht Zufriedenheit  \n",
       "0  Hatte mir mehr versprochen  Die Organisation l...           neg  \n",
       "1  Es war die absolute Hölle!  Die Therapeuten ka...           neg  \n",
       "2  Als grundpositiv eingestellter Mensch wollte i...           neg  \n",
       "3  Ich war für ca 5 Monate in der Klinik gewesen....           neg  \n",
       "4  Als ich in die Klinik ankam, wurde ich freundl...           pos  "
      ]
     },
     "execution_count": 15,
     "metadata": {},
     "output_type": "execute_result"
    }
   ],
   "source": [
    "data['Zufriedenheit'] = np.where(data['Gesamtzufriedenheit'] > 3, 'pos', 'neg')\n",
    "data.head()\n"
   ]
  },
  {
   "cell_type": "code",
   "execution_count": 16,
   "id": "c430061c",
   "metadata": {
    "scrolled": true
   },
   "outputs": [
    {
     "data": {
      "text/plain": [
       "Psychosomatik               0.142810\n",
       "Psychiatrie                 0.113127\n",
       "Chirurgie                   0.090699\n",
       "Entbindung                  0.067942\n",
       "Frauen                      0.061346\n",
       "\\nInnere\\n                  0.051781\n",
       "\\nUnfallchirurgie\\n         0.047823\n",
       "Kardiologie                 0.047823\n",
       "Neurologie                  0.047493\n",
       "\\nNeurochirurgie\\n          0.043536\n",
       "Urologie                    0.039908\n",
       "Orthopädie                  0.034301\n",
       "Hals-Nasen-Ohren            0.032652\n",
       "Thoraxchirurgie + Herz      0.031332\n",
       "Kindermedizin               0.023417\n",
       "Gastrologie                 0.017810\n",
       "\\nGefäßchirurgie\\n          0.017150\n",
       "Onkologie                   0.010224\n",
       "Mund/Kiefer-Chirurgie       0.008575\n",
       "Suchttherapie               0.008575\n",
       "Handchirurgie               0.008245\n",
       "Augen                       0.008245\n",
       "Haut/Geschl-Heilkunde       0.006926\n",
       "Schmerztherapie             0.005277\n",
       "Geriatrie                   0.004947\n",
       "Diabetes                    0.004617\n",
       "\\nKinderchirurgie\\n         0.004288\n",
       "Kind/Jugend-Psych.          0.004288\n",
       "Lungenheilkunde             0.003958\n",
       "\\nPlastische Chirurgie\\n    0.003628\n",
       "\\nNuklearmedizin\\n          0.002639\n",
       "Nephrologie                 0.001649\n",
       "Rheuma                      0.001319\n",
       "\\n                          0.000989\n",
       "Hämatologie                 0.000660\n",
       "Name: Fachbereich, dtype: float64"
      ]
     },
     "execution_count": 16,
     "metadata": {},
     "output_type": "execute_result"
    }
   ],
   "source": [
    "'''Heufigkeit z.B. Fachbereich  - Psychosomatik kommt ca. 14% der Kliniken '''\n",
    "#data.Fachbereich.value_counts()\n",
    "data.Fachbereich.value_counts(normalize=True)"
   ]
  },
  {
   "cell_type": "code",
   "execution_count": 17,
   "id": "3ab6d6e3",
   "metadata": {
    "scrolled": true
   },
   "outputs": [
    {
     "data": {
      "text/plain": [
       "MediClin Seepark Klinik                              0.126319\n",
       "Klinikum Wilhelmshaven gGmbH                         0.122032\n",
       "Klinikum Oldenburg                                   0.117084\n",
       "Pius-Hospital                                        0.068602\n",
       "Evangelisches Krankenhaus Oldenburg                  0.065303\n",
       "Niels-Stensen-Kliniken - Marienhospital Osnabrück    0.064314\n",
       "Aller-Weser-Klinik - Klinik Verden                   0.058377\n",
       "Ammerland-Klinik                                     0.054090\n",
       "Klinikum Uelzen GmbH                                 0.049142\n",
       "Karl-Jaspers-Klinik                                  0.045844\n",
       "Name: Klinikname, dtype: float64"
      ]
     },
     "execution_count": 17,
     "metadata": {},
     "output_type": "execute_result"
    }
   ],
   "source": [
    "# Top 10 eines bestimmten Merkmals aufstellen\n",
    "data.Klinikname.value_counts(normalize=True)[:10]"
   ]
  },
  {
   "cell_type": "code",
   "execution_count": 18,
   "id": "ccbbcdd2",
   "metadata": {},
   "outputs": [
    {
     "data": {
      "text/plain": [
       "'Es war die absolute Hölle!  Die Therapeuten kannten die ihnen zugewiesenen Patienten überhaupt nicht (Massenabfertigung).  Wünsche, was besprochen werden soll wurden nicht berücksichtigt. Es wurde eine Baustelle nach der anderen aufgemacht ohne Ansatz einer Therapie.  Der Speisesaal war die Hölle. Viel zu voll und viel zu laut. Das Essen war eine Zumutung.  Nach der Reha war ich kränker als davor und musste in die Psychiatrie weil gar nichts mehr ging.  Die Ärzte in Bad Bodenteich sprechen anscheinend nicht miteinander. Ich habe versucht falsch laufende Sachen in meiner Therapie zu klären. Ich wurde abgewiegelt, nicht ernst genommen. Uns wurde gesagt, dass wir die Reha nicht abbrechen dürfen, da uns dann Nachteile bei der RV entstehen. Das ist absoluter Blödsinn!!!  Ich wurde von der Klinik in die Wiedereingliederung gedrängt obwohl ich den Ärzten und dem Sozialdienst sagte, dass ich definitiv noch nicht arbeiten kann. Es war ihnen egal. Ich als Patient war ihnen scheiß egal! In diese Klinik bekommt mich niemand mehr.'"
      ]
     },
     "execution_count": 18,
     "metadata": {},
     "output_type": "execute_result"
    }
   ],
   "source": [
    "text = data.Erfahrungsbericht\n",
    "text[1]"
   ]
  },
  {
   "cell_type": "code",
   "execution_count": 19,
   "id": "529d8e8b",
   "metadata": {},
   "outputs": [],
   "source": [
    "#!pip install tensorflow\n",
    "#!pip install numpy\n",
    "#!pip install matplot"
   ]
  },
  {
   "cell_type": "code",
   "execution_count": 20,
   "id": "fdd1fe47",
   "metadata": {},
   "outputs": [],
   "source": [
    "from tensorflow import keras\n",
    "import matplot as mpl"
   ]
  },
  {
   "cell_type": "code",
   "execution_count": 21,
   "id": "524a17d4",
   "metadata": {},
   "outputs": [
    {
     "data": {
      "text/html": [
       "<div>\n",
       "<style scoped>\n",
       "    .dataframe tbody tr th:only-of-type {\n",
       "        vertical-align: middle;\n",
       "    }\n",
       "\n",
       "    .dataframe tbody tr th {\n",
       "        vertical-align: top;\n",
       "    }\n",
       "\n",
       "    .dataframe thead th {\n",
       "        text-align: right;\n",
       "    }\n",
       "</style>\n",
       "<table border=\"1\" class=\"dataframe\">\n",
       "  <thead>\n",
       "    <tr style=\"text-align: right;\">\n",
       "      <th></th>\n",
       "      <th>Klinikname</th>\n",
       "      <th>Titel</th>\n",
       "      <th>Datum</th>\n",
       "      <th>Fachbereich</th>\n",
       "      <th>Gesamtzufriedenheit</th>\n",
       "      <th>Erfahrungsbericht</th>\n",
       "      <th>Zufriedenheit</th>\n",
       "    </tr>\n",
       "  </thead>\n",
       "  <tbody>\n",
       "    <tr>\n",
       "      <th>0</th>\n",
       "      <td>MediClin Seepark Klinik</td>\n",
       "      <td>Organisation ist ein Fremdwort</td>\n",
       "      <td>19052021</td>\n",
       "      <td>Psychosomatik</td>\n",
       "      <td>2</td>\n",
       "      <td>Hatte mir mehr versprochen  Die Organisation l...</td>\n",
       "      <td>neg</td>\n",
       "    </tr>\n",
       "    <tr>\n",
       "      <th>1</th>\n",
       "      <td>MediClin Seepark Klinik</td>\n",
       "      <td>Es war die Hölle auf Erden</td>\n",
       "      <td>11042021</td>\n",
       "      <td>Psychosomatik</td>\n",
       "      <td>0</td>\n",
       "      <td>Es war die absolute Hölle!  Die Therapeuten ka...</td>\n",
       "      <td>neg</td>\n",
       "    </tr>\n",
       "    <tr>\n",
       "      <th>2</th>\n",
       "      <td>MediClin Seepark Klinik</td>\n",
       "      <td>Abschlussbericht</td>\n",
       "      <td>11042021</td>\n",
       "      <td>Psychosomatik</td>\n",
       "      <td>0</td>\n",
       "      <td>Als grundpositiv eingestellter Mensch wollte i...</td>\n",
       "      <td>neg</td>\n",
       "    </tr>\n",
       "    <tr>\n",
       "      <th>3</th>\n",
       "      <td>MediClin Seepark Klinik</td>\n",
       "      <td>Zum größten Teil nicht weiter zu empfehlen</td>\n",
       "      <td>4042021</td>\n",
       "      <td>Psychosomatik</td>\n",
       "      <td>2</td>\n",
       "      <td>Ich war für ca 5 Monate in der Klinik gewesen....</td>\n",
       "      <td>neg</td>\n",
       "    </tr>\n",
       "    <tr>\n",
       "      <th>4</th>\n",
       "      <td>MediClin Seepark Klinik</td>\n",
       "      <td>Durchaus ein Ort zum Genesen</td>\n",
       "      <td>28032021</td>\n",
       "      <td>Psychosomatik</td>\n",
       "      <td>4</td>\n",
       "      <td>Als ich in die Klinik ankam, wurde ich freundl...</td>\n",
       "      <td>pos</td>\n",
       "    </tr>\n",
       "  </tbody>\n",
       "</table>\n",
       "</div>"
      ],
      "text/plain": [
       "                Klinikname                                       Titel  \\\n",
       "0  MediClin Seepark Klinik              Organisation ist ein Fremdwort   \n",
       "1  MediClin Seepark Klinik                  Es war die Hölle auf Erden   \n",
       "2  MediClin Seepark Klinik                            Abschlussbericht   \n",
       "3  MediClin Seepark Klinik  Zum größten Teil nicht weiter zu empfehlen   \n",
       "4  MediClin Seepark Klinik                Durchaus ein Ort zum Genesen   \n",
       "\n",
       "      Datum    Fachbereich  Gesamtzufriedenheit  \\\n",
       "0  19052021  Psychosomatik                    2   \n",
       "1  11042021  Psychosomatik                    0   \n",
       "2  11042021  Psychosomatik                    0   \n",
       "3   4042021  Psychosomatik                    2   \n",
       "4  28032021  Psychosomatik                    4   \n",
       "\n",
       "                                   Erfahrungsbericht Zufriedenheit  \n",
       "0  Hatte mir mehr versprochen  Die Organisation l...           neg  \n",
       "1  Es war die absolute Hölle!  Die Therapeuten ka...           neg  \n",
       "2  Als grundpositiv eingestellter Mensch wollte i...           neg  \n",
       "3  Ich war für ca 5 Monate in der Klinik gewesen....           neg  \n",
       "4  Als ich in die Klinik ankam, wurde ich freundl...           pos  "
      ]
     },
     "execution_count": 21,
     "metadata": {},
     "output_type": "execute_result"
    }
   ],
   "source": [
    "data.head()"
   ]
  },
  {
   "cell_type": "code",
   "execution_count": 22,
   "id": "a502cb0c",
   "metadata": {},
   "outputs": [
    {
     "name": "stdout",
     "output_type": "stream",
     "text": [
      "False\n"
     ]
    }
   ],
   "source": [
    "print(data['Gesamtzufriedenheit'][1]>3)"
   ]
  },
  {
   "cell_type": "code",
   "execution_count": 23,
   "id": "11d16762",
   "metadata": {},
   "outputs": [
    {
     "data": {
      "text/plain": [
       "'Ich war für ca 5 Monate in der Klinik gewesen. ( Erwachsenenbereich )  Zum Teil hat sie mir geholfen, was das Zunehmen betrifft aber alles andere leider nicht. Viele Regeln hatte man nicht verstanden die einfach keinen Sinn ergaben wie z.B man darf kein Gemüse aufs Brot tun, sein Müsli nicht mit einem kleinen Löffel essen oder das Brot darf man nicht vierteln.  Oft kamen immer die typischen Sätze der Diätis „ ich habe keine Zeit“ wo man sich dann oft hilflos und verzweifelt gefühlt hat. Man hat vieles immer nur auf die Essstörung geschoben.  Manche Schwestern ( so sollte man die Mitarbeiter hier nennen ) waren nett und man konnte auch die ein oder anderen guten Gespräche führen aber der Großteil war einfach der Horror.  Man wurde nicht wie ein Mensch behandelt sondern nur wie die pure Krankheit die in einem steckt, was ich sehr schade fand. Den Chefarzt konnte man nicht ernst nehmen und er kam nie wirklich zum Punkt.  Mein Therapeut allerdings war wirklich super und mit ihm hatte ich richtiges Glück gehabt.  Was das Essen betrifft, das war eig fast immer lecker gewesen und es gab eine gute Auswahl.  Was das körperliche / das Zunehmen betrifft ist es inordnung aber alles andere leider nicht und kann daher diese Klinik nicht wirklich weiter empfehlen.  Auf das wichtigste, die Psyche wird nicht wirklich drauf eingegangen und das steht komplett im Hintergrund.  Es gibt deutlich bessere Kliniken mit besseren Konzepten.  Natürlich muss sich jeder ein eigenes Bild machen und seine Erfahrungen sammeln. Das ist nur meine eigene und persönliche Meinung und Erfahrungen.  Ich könnte noch so viel mehr schreiben aber das würde den Rahmen hier sprengen.'"
      ]
     },
     "execution_count": 23,
     "metadata": {},
     "output_type": "execute_result"
    }
   ],
   "source": [
    "data['Erfahrungsbericht'][3]"
   ]
  },
  {
   "cell_type": "code",
   "execution_count": 24,
   "id": "0fa926e5",
   "metadata": {},
   "outputs": [
    {
     "data": {
      "text/plain": [
       "str"
      ]
     },
     "execution_count": 24,
     "metadata": {},
     "output_type": "execute_result"
    }
   ],
   "source": [
    "type(data['Erfahrungsbericht'][3])"
   ]
  },
  {
   "cell_type": "code",
   "execution_count": 25,
   "id": "667c10da",
   "metadata": {},
   "outputs": [],
   "source": [
    "positive = []\n",
    "negative = []\n",
    "for n in  data['Gesamtzufriedenheit']:\n",
    "        if data['Gesamtzufriedenheit'][n] >=2:\n",
    "            positive.append(data['Erfahrungsbericht'][n])\n",
    "        else:\n",
    "            negative.append(data['Erfahrungsbericht'][n])\n",
    "            \n",
    "            \n",
    "            \n",
    "\n"
   ]
  },
  {
   "cell_type": "code",
   "execution_count": 26,
   "id": "8303a347",
   "metadata": {},
   "outputs": [
    {
     "data": {
      "text/plain": [
       "\"df_pos = pd.DataFrame(positive,columns=['positive'])\\ndf_pos.to_csv('Positive.csv',index=False)\""
      ]
     },
     "execution_count": 26,
     "metadata": {},
     "output_type": "execute_result"
    }
   ],
   "source": [
    "'''df_pos = pd.DataFrame(positive,columns=['positive'])\n",
    "df_pos.to_csv('Positive.csv',index=False)'''"
   ]
  },
  {
   "cell_type": "code",
   "execution_count": 27,
   "id": "589bb991",
   "metadata": {},
   "outputs": [
    {
     "data": {
      "text/plain": [
       "\"df_pos = pd.DataFrame(positive,columns=['positive'])\\ndf_pos.to_csv('Positive.csv',index=False)\""
      ]
     },
     "execution_count": 27,
     "metadata": {},
     "output_type": "execute_result"
    }
   ],
   "source": [
    "'''df_pos = pd.DataFrame(positive,columns=['positive'])\n",
    "df_pos.to_csv('Positive.csv',index=False)'''"
   ]
  },
  {
   "cell_type": "code",
   "execution_count": 28,
   "id": "d79a72c0",
   "metadata": {},
   "outputs": [
    {
     "data": {
      "text/html": [
       "<div>\n",
       "<style scoped>\n",
       "    .dataframe tbody tr th:only-of-type {\n",
       "        vertical-align: middle;\n",
       "    }\n",
       "\n",
       "    .dataframe tbody tr th {\n",
       "        vertical-align: top;\n",
       "    }\n",
       "\n",
       "    .dataframe thead th {\n",
       "        text-align: right;\n",
       "    }\n",
       "</style>\n",
       "<table border=\"1\" class=\"dataframe\">\n",
       "  <thead>\n",
       "    <tr style=\"text-align: right;\">\n",
       "      <th></th>\n",
       "      <th>positive</th>\n",
       "    </tr>\n",
       "  </thead>\n",
       "  <tbody>\n",
       "    <tr>\n",
       "      <th>0</th>\n",
       "      <td>Hatte mir mehr versprochen  Die Organisation l...</td>\n",
       "    </tr>\n",
       "    <tr>\n",
       "      <th>1</th>\n",
       "      <td>Hatte mir mehr versprochen  Die Organisation l...</td>\n",
       "    </tr>\n",
       "    <tr>\n",
       "      <th>2</th>\n",
       "      <td>Als ich in die Klinik ankam, wurde ich freundl...</td>\n",
       "    </tr>\n",
       "    <tr>\n",
       "      <th>3</th>\n",
       "      <td>Hatte mir mehr versprochen  Die Organisation l...</td>\n",
       "    </tr>\n",
       "    <tr>\n",
       "      <th>4</th>\n",
       "      <td>Hatte mir mehr versprochen  Die Organisation l...</td>\n",
       "    </tr>\n",
       "    <tr>\n",
       "      <th>...</th>\n",
       "      <td>...</td>\n",
       "    </tr>\n",
       "    <tr>\n",
       "      <th>1210</th>\n",
       "      <td>Hatte mir mehr versprochen  Die Organisation l...</td>\n",
       "    </tr>\n",
       "    <tr>\n",
       "      <th>1211</th>\n",
       "      <td>Hatte mir mehr versprochen  Die Organisation l...</td>\n",
       "    </tr>\n",
       "    <tr>\n",
       "      <th>1212</th>\n",
       "      <td>Hatte mir mehr versprochen  Die Organisation l...</td>\n",
       "    </tr>\n",
       "    <tr>\n",
       "      <th>1213</th>\n",
       "      <td>Hatte mir mehr versprochen  Die Organisation l...</td>\n",
       "    </tr>\n",
       "    <tr>\n",
       "      <th>1214</th>\n",
       "      <td>Als ich in die Klinik ankam, wurde ich freundl...</td>\n",
       "    </tr>\n",
       "  </tbody>\n",
       "</table>\n",
       "<p>1215 rows × 1 columns</p>\n",
       "</div>"
      ],
      "text/plain": [
       "                                               positive\n",
       "0     Hatte mir mehr versprochen  Die Organisation l...\n",
       "1     Hatte mir mehr versprochen  Die Organisation l...\n",
       "2     Als ich in die Klinik ankam, wurde ich freundl...\n",
       "3     Hatte mir mehr versprochen  Die Organisation l...\n",
       "4     Hatte mir mehr versprochen  Die Organisation l...\n",
       "...                                                 ...\n",
       "1210  Hatte mir mehr versprochen  Die Organisation l...\n",
       "1211  Hatte mir mehr versprochen  Die Organisation l...\n",
       "1212  Hatte mir mehr versprochen  Die Organisation l...\n",
       "1213  Hatte mir mehr versprochen  Die Organisation l...\n",
       "1214  Als ich in die Klinik ankam, wurde ich freundl...\n",
       "\n",
       "[1215 rows x 1 columns]"
      ]
     },
     "execution_count": 28,
     "metadata": {},
     "output_type": "execute_result"
    }
   ],
   "source": [
    "df_pos = pd.DataFrame(positive,columns=['positive'])\n",
    "df_pos.to_string('Positive.txt', header=None, index=None)\n",
    "\n",
    "df_pos"
   ]
  },
  {
   "cell_type": "code",
   "execution_count": 29,
   "id": "2a22f251",
   "metadata": {},
   "outputs": [
    {
     "data": {
      "text/html": [
       "<div>\n",
       "<style scoped>\n",
       "    .dataframe tbody tr th:only-of-type {\n",
       "        vertical-align: middle;\n",
       "    }\n",
       "\n",
       "    .dataframe tbody tr th {\n",
       "        vertical-align: top;\n",
       "    }\n",
       "\n",
       "    .dataframe thead th {\n",
       "        text-align: right;\n",
       "    }\n",
       "</style>\n",
       "<table border=\"1\" class=\"dataframe\">\n",
       "  <thead>\n",
       "    <tr style=\"text-align: right;\">\n",
       "      <th></th>\n",
       "      <th>positive</th>\n",
       "    </tr>\n",
       "  </thead>\n",
       "  <tbody>\n",
       "    <tr>\n",
       "      <th>0</th>\n",
       "      <td>Hatte mir mehr versprochen  Die Organisation l...</td>\n",
       "    </tr>\n",
       "    <tr>\n",
       "      <th>1</th>\n",
       "      <td>Hatte mir mehr versprochen  Die Organisation l...</td>\n",
       "    </tr>\n",
       "    <tr>\n",
       "      <th>2</th>\n",
       "      <td>Als ich in die Klinik ankam, wurde ich freundl...</td>\n",
       "    </tr>\n",
       "    <tr>\n",
       "      <th>3</th>\n",
       "      <td>Hatte mir mehr versprochen  Die Organisation l...</td>\n",
       "    </tr>\n",
       "    <tr>\n",
       "      <th>4</th>\n",
       "      <td>Hatte mir mehr versprochen  Die Organisation l...</td>\n",
       "    </tr>\n",
       "    <tr>\n",
       "      <th>...</th>\n",
       "      <td>...</td>\n",
       "    </tr>\n",
       "    <tr>\n",
       "      <th>1210</th>\n",
       "      <td>Hatte mir mehr versprochen  Die Organisation l...</td>\n",
       "    </tr>\n",
       "    <tr>\n",
       "      <th>1211</th>\n",
       "      <td>Hatte mir mehr versprochen  Die Organisation l...</td>\n",
       "    </tr>\n",
       "    <tr>\n",
       "      <th>1212</th>\n",
       "      <td>Hatte mir mehr versprochen  Die Organisation l...</td>\n",
       "    </tr>\n",
       "    <tr>\n",
       "      <th>1213</th>\n",
       "      <td>Hatte mir mehr versprochen  Die Organisation l...</td>\n",
       "    </tr>\n",
       "    <tr>\n",
       "      <th>1214</th>\n",
       "      <td>Als ich in die Klinik ankam, wurde ich freundl...</td>\n",
       "    </tr>\n",
       "  </tbody>\n",
       "</table>\n",
       "<p>1215 rows × 1 columns</p>\n",
       "</div>"
      ],
      "text/plain": [
       "                                               positive\n",
       "0     Hatte mir mehr versprochen  Die Organisation l...\n",
       "1     Hatte mir mehr versprochen  Die Organisation l...\n",
       "2     Als ich in die Klinik ankam, wurde ich freundl...\n",
       "3     Hatte mir mehr versprochen  Die Organisation l...\n",
       "4     Hatte mir mehr versprochen  Die Organisation l...\n",
       "...                                                 ...\n",
       "1210  Hatte mir mehr versprochen  Die Organisation l...\n",
       "1211  Hatte mir mehr versprochen  Die Organisation l...\n",
       "1212  Hatte mir mehr versprochen  Die Organisation l...\n",
       "1213  Hatte mir mehr versprochen  Die Organisation l...\n",
       "1214  Als ich in die Klinik ankam, wurde ich freundl...\n",
       "\n",
       "[1215 rows x 1 columns]"
      ]
     },
     "execution_count": 29,
     "metadata": {},
     "output_type": "execute_result"
    }
   ],
   "source": [
    "df_temp=pd.read_csv('Positive.csv')\n",
    "df_temp"
   ]
  },
  {
   "cell_type": "code",
   "execution_count": 30,
   "id": "fb12df9f",
   "metadata": {},
   "outputs": [
    {
     "data": {
      "text/html": [
       "<div>\n",
       "<style scoped>\n",
       "    .dataframe tbody tr th:only-of-type {\n",
       "        vertical-align: middle;\n",
       "    }\n",
       "\n",
       "    .dataframe tbody tr th {\n",
       "        vertical-align: top;\n",
       "    }\n",
       "\n",
       "    .dataframe thead th {\n",
       "        text-align: right;\n",
       "    }\n",
       "</style>\n",
       "<table border=\"1\" class=\"dataframe\">\n",
       "  <thead>\n",
       "    <tr style=\"text-align: right;\">\n",
       "      <th></th>\n",
       "      <th>negative</th>\n",
       "    </tr>\n",
       "  </thead>\n",
       "  <tbody>\n",
       "    <tr>\n",
       "      <th>0</th>\n",
       "      <td>Als grundpositiv eingestellter Mensch wollte i...</td>\n",
       "    </tr>\n",
       "    <tr>\n",
       "      <th>1</th>\n",
       "      <td>Als grundpositiv eingestellter Mensch wollte i...</td>\n",
       "    </tr>\n",
       "    <tr>\n",
       "      <th>2</th>\n",
       "      <td>Als grundpositiv eingestellter Mensch wollte i...</td>\n",
       "    </tr>\n",
       "    <tr>\n",
       "      <th>3</th>\n",
       "      <td>Diese Bewertung bezieht sich auf die Akutstati...</td>\n",
       "    </tr>\n",
       "    <tr>\n",
       "      <th>4</th>\n",
       "      <td>Diese Bewertung bezieht sich auf die Akutstati...</td>\n",
       "    </tr>\n",
       "    <tr>\n",
       "      <th>...</th>\n",
       "      <td>...</td>\n",
       "    </tr>\n",
       "    <tr>\n",
       "      <th>1812</th>\n",
       "      <td>Diese Bewertung bezieht sich auf die Akutstati...</td>\n",
       "    </tr>\n",
       "    <tr>\n",
       "      <th>1813</th>\n",
       "      <td>Diese Bewertung bezieht sich auf die Akutstati...</td>\n",
       "    </tr>\n",
       "    <tr>\n",
       "      <th>1814</th>\n",
       "      <td>Diese Bewertung bezieht sich auf die Akutstati...</td>\n",
       "    </tr>\n",
       "    <tr>\n",
       "      <th>1815</th>\n",
       "      <td>Diese Bewertung bezieht sich auf die Akutstati...</td>\n",
       "    </tr>\n",
       "    <tr>\n",
       "      <th>1816</th>\n",
       "      <td>Als grundpositiv eingestellter Mensch wollte i...</td>\n",
       "    </tr>\n",
       "  </tbody>\n",
       "</table>\n",
       "<p>1817 rows × 1 columns</p>\n",
       "</div>"
      ],
      "text/plain": [
       "                                               negative\n",
       "0     Als grundpositiv eingestellter Mensch wollte i...\n",
       "1     Als grundpositiv eingestellter Mensch wollte i...\n",
       "2     Als grundpositiv eingestellter Mensch wollte i...\n",
       "3     Diese Bewertung bezieht sich auf die Akutstati...\n",
       "4     Diese Bewertung bezieht sich auf die Akutstati...\n",
       "...                                                 ...\n",
       "1812  Diese Bewertung bezieht sich auf die Akutstati...\n",
       "1813  Diese Bewertung bezieht sich auf die Akutstati...\n",
       "1814  Diese Bewertung bezieht sich auf die Akutstati...\n",
       "1815  Diese Bewertung bezieht sich auf die Akutstati...\n",
       "1816  Als grundpositiv eingestellter Mensch wollte i...\n",
       "\n",
       "[1817 rows x 1 columns]"
      ]
     },
     "execution_count": 30,
     "metadata": {},
     "output_type": "execute_result"
    }
   ],
   "source": [
    "df_temp_neg=pd.read_csv('Negative.csv')\n",
    "df_temp_neg"
   ]
  },
  {
   "cell_type": "code",
   "execution_count": 53,
   "id": "4d1226c6",
   "metadata": {},
   "outputs": [
    {
     "data": {
      "text/plain": [
       "['Hatte mir mehr versprochen  Die Organisation lief oft sehr schief. Man bekam nicht bescheid wenn etwas ausfiel. Weshalb man gern mal vor verschlossenen Therapie Räumen stand.  Die Gruppentherapien konnten , wenn sie sehr aufwühlend waren, nur schwer bis gar nicht von der Therapeutin abgefangen werden . Die Therapeuten sind streckenweise noch sehr jung und arbeiten bereits neue junge therapeuten ein. Die Einzeltherapien fanden nur einmal pro Woche statt und das auch nur 30minuten. Schade. Vieles wird aufgewühlt und dann so stehen gelassen. Mit meiner Essstörung muss ich aber ein grosses Danke an die Ernährungstherapeuten aussprechen. Offen e und ehrliche Worte haben mir sehr geholfen. Die Schwestern der MZ haben vieles abgefangen und das mit viel Verständniss. Alles in allem geht es mir in manchen Dingen besser aber leider wurde vieles angefangen an Themen die ich jetzt weiter beaebeiten muss ohne zu wissen wie da mir in vielen Dingen einfach kein Weg aufgezeigt wurde. Mein Termin bei der sozialarbeiterin fiel leider mehrfach aus und am ende hiess es i muss mich selber kümmern.',\n",
       " 'Hatte mir mehr versprochen  Die Organisation lief oft sehr schief. Man bekam nicht bescheid wenn etwas ausfiel. Weshalb man gern mal vor verschlossenen Therapie Räumen stand.  Die Gruppentherapien konnten , wenn sie sehr aufwühlend waren, nur schwer bis gar nicht von der Therapeutin abgefangen werden . Die Therapeuten sind streckenweise noch sehr jung und arbeiten bereits neue junge therapeuten ein. Die Einzeltherapien fanden nur einmal pro Woche statt und das auch nur 30minuten. Schade. Vieles wird aufgewühlt und dann so stehen gelassen. Mit meiner Essstörung muss ich aber ein grosses Danke an die Ernährungstherapeuten aussprechen. Offen e und ehrliche Worte haben mir sehr geholfen. Die Schwestern der MZ haben vieles abgefangen und das mit viel Verständniss. Alles in allem geht es mir in manchen Dingen besser aber leider wurde vieles angefangen an Themen die ich jetzt weiter beaebeiten muss ohne zu wissen wie da mir in vielen Dingen einfach kein Weg aufgezeigt wurde. Mein Termin bei der sozialarbeiterin fiel leider mehrfach aus und am ende hiess es i muss mich selber kümmern.',\n",
       " 'Als ich in die Klinik ankam, wurde ich freundlich begrüßt. Leider wurde mir nicht erklärt, was es zu beachten gilt. So habe ich alles Stück für Stück erfahren.   Im Großen und Ganzen hat mir der Klinikaufenthalt sehr gefallen. Er war allerdings zu kurz, um sagen zu können, dass eine Besserung eingetreten ist. Leider eher im Gegenteil. Gut war, dass die Diätis einen sehr direkten Umgang mit der Essstörung haben, das habe ich an gewissen Punkten auch mal gebraucht. Allerdings gefallen mir die Wiegerunden überhaupt nicht, da man dort das Verhalten der anderen nach eigener Auffassung darstellt. Dies wurde leider oft dafür genutzt, um sich zu rechtfertigen oder sich besser darzustellen als andere. Ich hatte das Gefühl, dass einige Patienten dort in gegenseitiger Konkurrenz standen (Erwachsenenbereich). Ich war in einer sehr aufgeschlossenen freundlichen Gruppe, mit einer sehr offenen Therapeutin (Fr. L), die kein Blatt vor dem Mund nimmt. Im persönlichen Gespräch mit ihr, wurde sie mir gegenüber sehr destruktiv, sodass ich Zweifel hatte, ob ich dort überhaupt an der richtigen Stelle bin. Sie hatte mir durch ihre Kommentare den Eindruck vermittelt, ich wäre dort am falschen Platz und ich wäre nicht anorektisch genug. Ich habe dort gelernt meine Essstörung bewusster wahrzunehmen, dies geschah größtenteils aus Gesprächen mit anderen Patienten. Die Einzeltherapiestunden waren nicht sehr erfolgsversprechend. Ich war leider nicht in so vielen anderen Therapiegruppen, da vieles ausgefallen ist. Es drehte sich daher auch alles nur um das Essen und nicht auf die anderen sehr wichtigen Aspekte der Anorexie. Ich hatte in der Klinik immer den Kampf, dass ich als Person wahrgenommen werden wollte. Leider werden dort sehr viele Verhaltensweisen nur auf die Essstörung bezogen. Ich würde mir wünschen, wenn man die Patienten dort ernster nehmen würde und auch auf sie eingegangen wird. Gerade was Fr. L betrifft. Fr. L ist innovativ und kompetent. Sie ist sehr hilfsbereit.',\n",
       " 'Hatte mir mehr versprochen  Die Organisation lief oft sehr schief. Man bekam nicht bescheid wenn etwas ausfiel. Weshalb man gern mal vor verschlossenen Therapie Räumen stand.  Die Gruppentherapien konnten , wenn sie sehr aufwühlend waren, nur schwer bis gar nicht von der Therapeutin abgefangen werden . Die Therapeuten sind streckenweise noch sehr jung und arbeiten bereits neue junge therapeuten ein. Die Einzeltherapien fanden nur einmal pro Woche statt und das auch nur 30minuten. Schade. Vieles wird aufgewühlt und dann so stehen gelassen. Mit meiner Essstörung muss ich aber ein grosses Danke an die Ernährungstherapeuten aussprechen. Offen e und ehrliche Worte haben mir sehr geholfen. Die Schwestern der MZ haben vieles abgefangen und das mit viel Verständniss. Alles in allem geht es mir in manchen Dingen besser aber leider wurde vieles angefangen an Themen die ich jetzt weiter beaebeiten muss ohne zu wissen wie da mir in vielen Dingen einfach kein Weg aufgezeigt wurde. Mein Termin bei der sozialarbeiterin fiel leider mehrfach aus und am ende hiess es i muss mich selber kümmern.',\n",
       " 'Hatte mir mehr versprochen  Die Organisation lief oft sehr schief. Man bekam nicht bescheid wenn etwas ausfiel. Weshalb man gern mal vor verschlossenen Therapie Räumen stand.  Die Gruppentherapien konnten , wenn sie sehr aufwühlend waren, nur schwer bis gar nicht von der Therapeutin abgefangen werden . Die Therapeuten sind streckenweise noch sehr jung und arbeiten bereits neue junge therapeuten ein. Die Einzeltherapien fanden nur einmal pro Woche statt und das auch nur 30minuten. Schade. Vieles wird aufgewühlt und dann so stehen gelassen. Mit meiner Essstörung muss ich aber ein grosses Danke an die Ernährungstherapeuten aussprechen. Offen e und ehrliche Worte haben mir sehr geholfen. Die Schwestern der MZ haben vieles abgefangen und das mit viel Verständniss. Alles in allem geht es mir in manchen Dingen besser aber leider wurde vieles angefangen an Themen die ich jetzt weiter beaebeiten muss ohne zu wissen wie da mir in vielen Dingen einfach kein Weg aufgezeigt wurde. Mein Termin bei der sozialarbeiterin fiel leider mehrfach aus und am ende hiess es i muss mich selber kümmern.',\n",
       " 'Als ich in die Klinik ankam, wurde ich freundlich begrüßt. Leider wurde mir nicht erklärt, was es zu beachten gilt. So habe ich alles Stück für Stück erfahren.   Im Großen und Ganzen hat mir der Klinikaufenthalt sehr gefallen. Er war allerdings zu kurz, um sagen zu können, dass eine Besserung eingetreten ist. Leider eher im Gegenteil. Gut war, dass die Diätis einen sehr direkten Umgang mit der Essstörung haben, das habe ich an gewissen Punkten auch mal gebraucht. Allerdings gefallen mir die Wiegerunden überhaupt nicht, da man dort das Verhalten der anderen nach eigener Auffassung darstellt. Dies wurde leider oft dafür genutzt, um sich zu rechtfertigen oder sich besser darzustellen als andere. Ich hatte das Gefühl, dass einige Patienten dort in gegenseitiger Konkurrenz standen (Erwachsenenbereich). Ich war in einer sehr aufgeschlossenen freundlichen Gruppe, mit einer sehr offenen Therapeutin (Fr. L), die kein Blatt vor dem Mund nimmt. Im persönlichen Gespräch mit ihr, wurde sie mir gegenüber sehr destruktiv, sodass ich Zweifel hatte, ob ich dort überhaupt an der richtigen Stelle bin. Sie hatte mir durch ihre Kommentare den Eindruck vermittelt, ich wäre dort am falschen Platz und ich wäre nicht anorektisch genug. Ich habe dort gelernt meine Essstörung bewusster wahrzunehmen, dies geschah größtenteils aus Gesprächen mit anderen Patienten. Die Einzeltherapiestunden waren nicht sehr erfolgsversprechend. Ich war leider nicht in so vielen anderen Therapiegruppen, da vieles ausgefallen ist. Es drehte sich daher auch alles nur um das Essen und nicht auf die anderen sehr wichtigen Aspekte der Anorexie. Ich hatte in der Klinik immer den Kampf, dass ich als Person wahrgenommen werden wollte. Leider werden dort sehr viele Verhaltensweisen nur auf die Essstörung bezogen. Ich würde mir wünschen, wenn man die Patienten dort ernster nehmen würde und auch auf sie eingegangen wird. Gerade was Fr. L betrifft. Fr. L ist innovativ und kompetent. Sie ist sehr hilfsbereit.',\n",
       " 'Hatte mir mehr versprochen  Die Organisation lief oft sehr schief. Man bekam nicht bescheid wenn etwas ausfiel. Weshalb man gern mal vor verschlossenen Therapie Räumen stand.  Die Gruppentherapien konnten , wenn sie sehr aufwühlend waren, nur schwer bis gar nicht von der Therapeutin abgefangen werden . Die Therapeuten sind streckenweise noch sehr jung und arbeiten bereits neue junge therapeuten ein. Die Einzeltherapien fanden nur einmal pro Woche statt und das auch nur 30minuten. Schade. Vieles wird aufgewühlt und dann so stehen gelassen. Mit meiner Essstörung muss ich aber ein grosses Danke an die Ernährungstherapeuten aussprechen. Offen e und ehrliche Worte haben mir sehr geholfen. Die Schwestern der MZ haben vieles abgefangen und das mit viel Verständniss. Alles in allem geht es mir in manchen Dingen besser aber leider wurde vieles angefangen an Themen die ich jetzt weiter beaebeiten muss ohne zu wissen wie da mir in vielen Dingen einfach kein Weg aufgezeigt wurde. Mein Termin bei der sozialarbeiterin fiel leider mehrfach aus und am ende hiess es i muss mich selber kümmern.',\n",
       " 'Hatte mir mehr versprochen  Die Organisation lief oft sehr schief. Man bekam nicht bescheid wenn etwas ausfiel. Weshalb man gern mal vor verschlossenen Therapie Räumen stand.  Die Gruppentherapien konnten , wenn sie sehr aufwühlend waren, nur schwer bis gar nicht von der Therapeutin abgefangen werden . Die Therapeuten sind streckenweise noch sehr jung und arbeiten bereits neue junge therapeuten ein. Die Einzeltherapien fanden nur einmal pro Woche statt und das auch nur 30minuten. Schade. Vieles wird aufgewühlt und dann so stehen gelassen. Mit meiner Essstörung muss ich aber ein grosses Danke an die Ernährungstherapeuten aussprechen. Offen e und ehrliche Worte haben mir sehr geholfen. Die Schwestern der MZ haben vieles abgefangen und das mit viel Verständniss. Alles in allem geht es mir in manchen Dingen besser aber leider wurde vieles angefangen an Themen die ich jetzt weiter beaebeiten muss ohne zu wissen wie da mir in vielen Dingen einfach kein Weg aufgezeigt wurde. Mein Termin bei der sozialarbeiterin fiel leider mehrfach aus und am ende hiess es i muss mich selber kümmern.']"
      ]
     },
     "execution_count": 53,
     "metadata": {},
     "output_type": "execute_result"
    }
   ],
   "source": [
    "positive[:8]"
   ]
  },
  {
   "cell_type": "code",
   "execution_count": 32,
   "id": "4e0b6732",
   "metadata": {},
   "outputs": [
    {
     "data": {
      "text/plain": [
       "['Als grundpositiv eingestellter Mensch wollte ich mich von den vielen negativen Bewertungen nicht beeinflussen lassen.  Meine eigenen Erfahrungen vor ca. 7 Monaten haben aber wenig positives unter dem Strich gebracht. Für Akutpatienten mag die Klinik geeignet sein, für Rehapatienten mit Magen-Operation war die Begleitung lausig. Es gab bei der Ernährungsberatung, der Gruppenbegleitung, Physios, Rezeption und Med. Zentrale gute Mitarbeiter*innen.  Jedoch im Bereich der medizinischen bzw. psychologischen Betreuung hatten die negativen Erfahrungen starken Überhang. Unfähig mit einer selbständig denkenden Patientin umzugehen und sich durch Vorschlag die Reha abzubrechen aus der Situation zu ziehen war das Ergebnis. Der Abschlussbericht entsprach nicht der Realität.  Insgesamt betrachtet kann ich -auch nach längerer Überlegung- diese Klinik nicht empfehlen. Es sei denn man ist ein Mensch, der zu Beginn der Reha seinen Verstand und klare Vorstellung einer Reha und eigene Ziele am Eingang abgibt.  SEHR SCHADE DIE 3 VON 5 VORGESEHENEN WOCHEN WAREN ZEIT- UND RESSOURCENVERSCHWENDUNG INKL. VIEL ÄRGER MIT DER KLINIKLEITUNG UND FRUST ÜBER VERSCHWENDETE ZEIT. Cl. A.',\n",
       " 'Als grundpositiv eingestellter Mensch wollte ich mich von den vielen negativen Bewertungen nicht beeinflussen lassen.  Meine eigenen Erfahrungen vor ca. 7 Monaten haben aber wenig positives unter dem Strich gebracht. Für Akutpatienten mag die Klinik geeignet sein, für Rehapatienten mit Magen-Operation war die Begleitung lausig. Es gab bei der Ernährungsberatung, der Gruppenbegleitung, Physios, Rezeption und Med. Zentrale gute Mitarbeiter*innen.  Jedoch im Bereich der medizinischen bzw. psychologischen Betreuung hatten die negativen Erfahrungen starken Überhang. Unfähig mit einer selbständig denkenden Patientin umzugehen und sich durch Vorschlag die Reha abzubrechen aus der Situation zu ziehen war das Ergebnis. Der Abschlussbericht entsprach nicht der Realität.  Insgesamt betrachtet kann ich -auch nach längerer Überlegung- diese Klinik nicht empfehlen. Es sei denn man ist ein Mensch, der zu Beginn der Reha seinen Verstand und klare Vorstellung einer Reha und eigene Ziele am Eingang abgibt.  SEHR SCHADE DIE 3 VON 5 VORGESEHENEN WOCHEN WAREN ZEIT- UND RESSOURCENVERSCHWENDUNG INKL. VIEL ÄRGER MIT DER KLINIKLEITUNG UND FRUST ÜBER VERSCHWENDETE ZEIT. Cl. A.']"
      ]
     },
     "execution_count": 32,
     "metadata": {},
     "output_type": "execute_result"
    }
   ],
   "source": [
    "negative[:2]"
   ]
  },
  {
   "cell_type": "code",
   "execution_count": 38,
   "id": "7a634d0b",
   "metadata": {},
   "outputs": [
    {
     "data": {
      "text/plain": [
       "1817"
      ]
     },
     "execution_count": 38,
     "metadata": {},
     "output_type": "execute_result"
    }
   ],
   "source": [
    "len(negative) "
   ]
  },
  {
   "cell_type": "code",
   "execution_count": 39,
   "id": "6e55101e",
   "metadata": {},
   "outputs": [
    {
     "data": {
      "text/plain": [
       "1215"
      ]
     },
     "execution_count": 39,
     "metadata": {},
     "output_type": "execute_result"
    }
   ],
   "source": [
    "len(positive)"
   ]
  },
  {
   "cell_type": "code",
   "execution_count": 48,
   "id": "a000c687",
   "metadata": {},
   "outputs": [],
   "source": [
    "import matplotlib.pyplot as plt"
   ]
  },
  {
   "cell_type": "code",
   "execution_count": 49,
   "id": "868d830e",
   "metadata": {},
   "outputs": [
    {
     "name": "stdout",
     "output_type": "stream",
     "text": [
      "210 317 1000 1500\n"
     ]
    }
   ],
   "source": [
    "'''train_x = negative[:1500]\n",
    "train_y = positive[:1000]\n",
    "\n",
    "test_x = negative[:317]\n",
    "test_y = positive[:210]\n",
    "print (len(test_y),\n",
    "       len(test_x),\n",
    "       len(train_y),\n",
    "       len(train_x))'''"
   ]
  },
  {
   "cell_type": "code",
   "execution_count": 51,
   "id": "0d381972",
   "metadata": {},
   "outputs": [
    {
     "data": {
      "text/plain": [
       "'Als grundpositiv eingestellter Mensch wollte ich mich von den vielen negativen Bewertungen nicht beeinflussen lassen.  Meine eigenen Erfahrungen vor ca. 7 Monaten haben aber wenig positives unter dem Strich gebracht. Für Akutpatienten mag die Klinik geeignet sein, für Rehapatienten mit Magen-Operation war die Begleitung lausig. Es gab bei der Ernährungsberatung, der Gruppenbegleitung, Physios, Rezeption und Med. Zentrale gute Mitarbeiter*innen.  Jedoch im Bereich der medizinischen bzw. psychologischen Betreuung hatten die negativen Erfahrungen starken Überhang. Unfähig mit einer selbständig denkenden Patientin umzugehen und sich durch Vorschlag die Reha abzubrechen aus der Situation zu ziehen war das Ergebnis. Der Abschlussbericht entsprach nicht der Realität.  Insgesamt betrachtet kann ich -auch nach längerer Überlegung- diese Klinik nicht empfehlen. Es sei denn man ist ein Mensch, der zu Beginn der Reha seinen Verstand und klare Vorstellung einer Reha und eigene Ziele am Eingang abgibt.  SEHR SCHADE DIE 3 VON 5 VORGESEHENEN WOCHEN WAREN ZEIT- UND RESSOURCENVERSCHWENDUNG INKL. VIEL ÄRGER MIT DER KLINIKLEITUNG UND FRUST ÜBER VERSCHWENDETE ZEIT. Cl. A.'"
      ]
     },
     "execution_count": 51,
     "metadata": {},
     "output_type": "execute_result"
    }
   ],
   "source": [
    "train_x[2]"
   ]
  },
  {
   "cell_type": "code",
   "execution_count": null,
   "id": "12c56d9a",
   "metadata": {},
   "outputs": [],
   "source": [
    "import random\n",
    "import matplotlib.pyplot as plt"
   ]
  },
  {
   "cell_type": "code",
   "execution_count": null,
   "id": "999f37eb",
   "metadata": {},
   "outputs": [],
   "source": []
  },
  {
   "cell_type": "code",
   "execution_count": 66,
   "id": "a4bbf093",
   "metadata": {},
   "outputs": [],
   "source": [
    "negative_neu = negative[:1215]"
   ]
  },
  {
   "cell_type": "code",
   "execution_count": 67,
   "id": "38ff7691",
   "metadata": {},
   "outputs": [
    {
     "data": {
      "text/plain": [
       "1215"
      ]
     },
     "execution_count": 67,
     "metadata": {},
     "output_type": "execute_result"
    }
   ],
   "source": [
    "len(negative_neu)"
   ]
  },
  {
   "cell_type": "code",
   "execution_count": 121,
   "id": "4e934acf",
   "metadata": {},
   "outputs": [],
   "source": [
    "X = np.array(negative_neu)\n",
    "y = np.array(positive)"
   ]
  },
  {
   "cell_type": "code",
   "execution_count": 122,
   "id": "5e144458",
   "metadata": {},
   "outputs": [
    {
     "data": {
      "text/plain": [
       "(1215,)"
      ]
     },
     "execution_count": 122,
     "metadata": {},
     "output_type": "execute_result"
    }
   ],
   "source": [
    "X.shape"
   ]
  },
  {
   "cell_type": "code",
   "execution_count": 123,
   "id": "6f032e53",
   "metadata": {},
   "outputs": [
    {
     "data": {
      "text/plain": [
       "(1215,)"
      ]
     },
     "execution_count": 123,
     "metadata": {},
     "output_type": "execute_result"
    }
   ],
   "source": [
    "y.shape"
   ]
  },
  {
   "cell_type": "code",
   "execution_count": 124,
   "id": "2765b993",
   "metadata": {},
   "outputs": [],
   "source": [
    "from sklearn.model_selection import train_test_split\n",
    "\n",
    "\n",
    "'''train_x = X[:1000]\n",
    "train_y = y[:1000]\n",
    "\n",
    "test_x = X[:210]\n",
    "test_y = y[:210]'''\n",
    "\n",
    "train_x, test_x, train_y, test_y = train_test_split(X, y, test_size = 0.15, random_state = 225)\n"
   ]
  },
  {
   "cell_type": "code",
   "execution_count": 125,
   "id": "67008887",
   "metadata": {},
   "outputs": [],
   "source": [
    "from sklearn.metrics import accuracy_score, precision_score, recall_score\n",
    "from sklearn.metrics import confusion_matrix\n",
    "from sklearn.pipeline import Pipeline\n",
    "from sklearn.feature_extraction.text import TfidfVectorizer\n",
    "from sklearn.linear_model import LogisticRegression\n",
    "from sklearn.datasets import load_iris\n",
    "\n",
    "vectorizer_1 = TfidfVectorizer()\n",
    "classifier_1 = LogisticRegression(solver = \"lbfgs\")\n",
    "\n",
    "\n"
   ]
  },
  {
   "cell_type": "code",
   "execution_count": 135,
   "id": "47db4cf8",
   "metadata": {},
   "outputs": [
    {
     "name": "stderr",
     "output_type": "stream",
     "text": [
      "C:\\Users\\Alras\\Anaconda\\lib\\site-packages\\sklearn\\linear_model\\_logistic.py:763: ConvergenceWarning: lbfgs failed to converge (status=1):\n",
      "STOP: TOTAL NO. of ITERATIONS REACHED LIMIT.\n",
      "\n",
      "Increase the number of iterations (max_iter) or scale the data as shown in:\n",
      "    https://scikit-learn.org/stable/modules/preprocessing.html\n",
      "Please also refer to the documentation for alternative solver options:\n",
      "    https://scikit-learn.org/stable/modules/linear_model.html#logistic-regression\n",
      "  n_iter_i = _check_optimize_result(\n"
     ]
    },
    {
     "data": {
      "text/plain": [
       "array([[  0,   0],\n",
       "       [ 53, 130]], dtype=int64)"
      ]
     },
     "execution_count": 135,
     "metadata": {},
     "output_type": "execute_result"
    }
   ],
   "source": [
    "my_model = Pipeline([('vectorizer',vectorizer_1),('classifier',classifier_1)])\n",
    "\n",
    "model.fit(train_x , train_y)\n",
    "\n",
    "X, y = load_iris(return_X_y=True)\n",
    "clf = LogisticRegression(random_state=0).fit(X, y)\n",
    "clf.predict(X[:2, :])\n",
    "clf.predict_proba(X[:2, :])\n",
    "predictions = model.predict(test_x)\n",
    "\n",
    "confusion_matrix(predictions, test_y)\n"
   ]
  },
  {
   "cell_type": "code",
   "execution_count": 103,
   "id": "59fa76a3",
   "metadata": {},
   "outputs": [],
   "source": [
    "#print(\"Accuracy : \", accuracy_score(predictions, test_x))"
   ]
  },
  {
   "cell_type": "code",
   "execution_count": 136,
   "id": "21256eda",
   "metadata": {},
   "outputs": [
    {
     "data": {
      "text/plain": [
       "0.9733333333333334"
      ]
     },
     "execution_count": 136,
     "metadata": {},
     "output_type": "execute_result"
    }
   ],
   "source": [
    "clf.score(X, y)"
   ]
  },
  {
   "cell_type": "code",
   "execution_count": 148,
   "id": "afaceebf",
   "metadata": {},
   "outputs": [
    {
     "name": "stdout",
     "output_type": "stream",
     "text": [
      "['Hatte mir mehr versprochen  Die Organisation lief oft sehr schief. Man bekam nicht bescheid wenn etwas ausfiel. Weshalb man gern mal vor verschlossenen Therapie Räumen stand.  Die Gruppentherapien konnten , wenn sie sehr aufwühlend waren, nur schwer bis gar nicht von der Therapeutin abgefangen werden . Die Therapeuten sind streckenweise noch sehr jung und arbeiten bereits neue junge therapeuten ein. Die Einzeltherapien fanden nur einmal pro Woche statt und das auch nur 30minuten. Schade. Vieles wird aufgewühlt und dann so stehen gelassen. Mit meiner Essstörung muss ich aber ein grosses Danke an die Ernährungstherapeuten aussprechen. Offen e und ehrliche Worte haben mir sehr geholfen. Die Schwestern der MZ haben vieles abgefangen und das mit viel Verständniss. Alles in allem geht es mir in manchen Dingen besser aber leider wurde vieles angefangen an Themen die ich jetzt weiter beaebeiten muss ohne zu wissen wie da mir in vielen Dingen einfach kein Weg aufgezeigt wurde. Mein Termin bei der sozialarbeiterin fiel leider mehrfach aus und am ende hiess es i muss mich selber kümmern.']\n"
     ]
    }
   ],
   "source": [
    "#test\n",
    "test = ['Sehr höfliche und hilfsbereite Mitarbeiter. Sehr schöne Außenanlage die besser gepflegt werden könnte. Frostschäden an Rosen.Sehr fähiges medizinisches Personal jederzeit gerne wieder.']\n",
    "result = model.predict(test)\n",
    "\n",
    "print(result)\n"
   ]
  },
  {
   "cell_type": "code",
   "execution_count": 140,
   "id": "f0d733bf",
   "metadata": {},
   "outputs": [
    {
     "name": "stdout",
     "output_type": "stream",
     "text": [
      "Hatte mir mehr versprochen  Die Organisation lief oft sehr schief. Man bekam nicht bescheid wenn etwas ausfiel. Weshalb man gern mal vor verschlossenen Therapie Räumen stand.  Die Gruppentherapien konnten , wenn sie sehr aufwühlend waren, nur schwer bis gar nicht von der Therapeutin abgefangen werden . Die Therapeuten sind streckenweise noch sehr jung und arbeiten bereits neue junge therapeuten ein. Die Einzeltherapien fanden nur einmal pro Woche statt und das auch nur 30minuten. Schade. Vieles wird aufgewühlt und dann so stehen gelassen. Mit meiner Essstörung muss ich aber ein grosses Danke an die Ernährungstherapeuten aussprechen. Offen e und ehrliche Worte haben mir sehr geholfen. Die Schwestern der MZ haben vieles abgefangen und das mit viel Verständniss. Alles in allem geht es mir in manchen Dingen besser aber leider wurde vieles angefangen an Themen die ich jetzt weiter beaebeiten muss ohne zu wissen wie da mir in vielen Dingen einfach kein Weg aufgezeigt wurde. Mein Termin bei der sozialarbeiterin fiel leider mehrfach aus und am ende hiess es i muss mich selber kümmern.\n"
     ]
    }
   ],
   "source": [
    "print(positive[0])"
   ]
  },
  {
   "cell_type": "code",
   "execution_count": 152,
   "id": "e0bc4a98",
   "metadata": {},
   "outputs": [
    {
     "name": "stdout",
     "output_type": "stream",
     "text": [
      "['Hatte mir mehr versprochen  Die Organisation lief oft sehr schief. Man bekam nicht bescheid wenn etwas ausfiel. Weshalb man gern mal vor verschlossenen Therapie Räumen stand.  Die Gruppentherapien konnten , wenn sie sehr aufwühlend waren, nur schwer bis gar nicht von der Therapeutin abgefangen werden . Die Therapeuten sind streckenweise noch sehr jung und arbeiten bereits neue junge therapeuten ein. Die Einzeltherapien fanden nur einmal pro Woche statt und das auch nur 30minuten. Schade. Vieles wird aufgewühlt und dann so stehen gelassen. Mit meiner Essstörung muss ich aber ein grosses Danke an die Ernährungstherapeuten aussprechen. Offen e und ehrliche Worte haben mir sehr geholfen. Die Schwestern der MZ haben vieles abgefangen und das mit viel Verständniss. Alles in allem geht es mir in manchen Dingen besser aber leider wurde vieles angefangen an Themen die ich jetzt weiter beaebeiten muss ohne zu wissen wie da mir in vielen Dingen einfach kein Weg aufgezeigt wurde. Mein Termin bei der sozialarbeiterin fiel leider mehrfach aus und am ende hiess es i muss mich selber kümmern.']\n"
     ]
    }
   ],
   "source": [
    "test1 = ['Ich fühle mich in dieser Klinik als unterprivilegierter Kassenpatient deplatziert und habe deshalb auf die weitere Behandlung verzichtet. Empfehlen kann ich dieses Haus deshalb nicht.']\n",
    "result1 = model.predict(test1)\n",
    "\n",
    "print(result1)"
   ]
  },
  {
   "cell_type": "code",
   "execution_count": null,
   "id": "73b6d7da",
   "metadata": {},
   "outputs": [],
   "source": []
  }
 ],
 "metadata": {
  "kernelspec": {
   "display_name": "Python 3",
   "language": "python",
   "name": "python3"
  },
  "language_info": {
   "codemirror_mode": {
    "name": "ipython",
    "version": 3
   },
   "file_extension": ".py",
   "mimetype": "text/x-python",
   "name": "python",
   "nbconvert_exporter": "python",
   "pygments_lexer": "ipython3",
   "version": "3.8.8"
  }
 },
 "nbformat": 4,
 "nbformat_minor": 5
}
